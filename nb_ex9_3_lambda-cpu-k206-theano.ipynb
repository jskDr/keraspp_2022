{
 "cells": [
  {
   "cell_type": "code",
   "execution_count": 1,
   "metadata": {},
   "outputs": [
    {
     "name": "stderr",
     "output_type": "stream",
     "text": [
      "Using Theano backend.\n"
     ]
    }
   ],
   "source": [
    "import keras"
   ]
  },
  {
   "cell_type": "markdown",
   "metadata": {},
   "source": [
    "## 9장. 케라스2 응용\n",
    "실제 문제에 인공지능을 활용할 때 생기는 문제들을 효율적으로 처리하는 케라스의 응용 기능을 알아봅시다.\n",
    "\n",
    "### 9.3 실전에서 유용한 케라스 고급 기능\n",
    "케라스의 유용한 고급 기능을 다룹니다."
   ]
  },
  {
   "cell_type": "code",
   "execution_count": 2,
   "metadata": {},
   "outputs": [
    {
     "data": {
      "text/plain": [
       "'2.0.6'"
      ]
     },
     "execution_count": 2,
     "metadata": {},
     "output_type": "execute_result"
    }
   ],
   "source": [
    "# set to use CPU\n",
    "import os\n",
    "os.environ['CUDA_VISIBLE_DEVICES'] = '-1'\n",
    "\n",
    "import keras\n",
    "keras.__version__"
   ]
  },
  {
   "cell_type": "markdown",
   "metadata": {},
   "source": [
    "### 9.3.1 Lambda 계층\n",
    "#### 9.3.1.1 파이썬 lambda를 함께 활용"
   ]
  },
  {
   "cell_type": "code",
   "execution_count": 3,
   "metadata": {},
   "outputs": [],
   "source": [
    "from keras.layers import Lambda, Input, Concatenate\n",
    "from keras.models import Model\n",
    "import numpy as np"
   ]
  },
  {
   "cell_type": "code",
   "execution_count": 7,
   "metadata": {},
   "outputs": [
    {
     "name": "stderr",
     "output_type": "stream",
     "text": [
      "/home/sjkim/anaconda3/envs/keras206/lib/python3.6/site-packages/keras/layers/core.py:629: UserWarning: `output_shape` argument not specified for layer lambda_2 and cannot be automatically inferred with the Theano backend. Defaulting to output shape `(None, 2)` (same as input shape). If the expected output shape is different, specify it via the `output_shape` argument.\n",
      "  .format(self.name, input_shape))\n"
     ]
    },
    {
     "name": "stdout",
     "output_type": "stream",
     "text": [
      "[[ 4.  9.]\n",
      " [16. 25.]]\n"
     ]
    }
   ],
   "source": [
    "def Lambda_with_lambda():\n",
    "    x = Input((2,))\n",
    "    y = Lambda(lambda x: x**2+2*x+1)(x)\n",
    "    m = Model(x, y)\n",
    "\n",
    "    yp = m.predict_on_batch(np.array([[1,2],[3,4]]))\n",
    "    print(yp)\n",
    "    \n",
    "Lambda_with_lambda()"
   ]
  },
  {
   "cell_type": "code",
   "execution_count": 9,
   "metadata": {},
   "outputs": [
    {
     "name": "stdout",
     "output_type": "stream",
     "text": [
      "[[1. 2. 3. 1. 0. 1. 1. 0. 1.]\n",
      " [3. 4. 8. 2. 1. 3. 4. 1. 9.]]\n"
     ]
    }
   ],
   "source": [
    "from keras import backend as K\n",
    "def Backend_for_Lambda():\n",
    "    def kproc_concat(x):    \n",
    "        m = K.mean(x, axis=1, keepdims=True)\n",
    "        d1 = K.abs(x - m)\n",
    "        d2 = K.square(x - m)\n",
    "        return K.concatenate([x, d1, d2], axis=1)\n",
    "\n",
    "    def kshape_concat(input_shape):\n",
    "        output_shape = list(input_shape)\n",
    "        output_shape[1] *= 3\n",
    "        return tuple(output_shape)\n",
    "\n",
    "    x = Input((3,))\n",
    "    y = Lambda(kproc_concat, kshape_concat)(x)\n",
    "    m = Model(x, y)\n",
    "\n",
    "    yp = m.predict_on_batch(np.array([[1, 2, 3], [3, 4, 8]]))\n",
    "    print(yp)\n",
    "    \n",
    "Backend_for_Lambda()"
   ]
  },
  {
   "cell_type": "code",
   "execution_count": 11,
   "metadata": {},
   "outputs": [
    {
     "ename": "ModuleNotFoundError",
     "evalue": "No module named 'tensorflow'",
     "output_type": "error",
     "traceback": [
      "\u001b[0;31m---------------------------------------------------------------------------\u001b[0m",
      "\u001b[0;31mModuleNotFoundError\u001b[0m                       Traceback (most recent call last)",
      "\u001b[0;32m<ipython-input-11-dcd580f5dabf>\u001b[0m in \u001b[0;36m<module>\u001b[0;34m()\u001b[0m\n\u001b[0;32m----> 1\u001b[0;31m \u001b[0;32mimport\u001b[0m \u001b[0mtensorflow\u001b[0m \u001b[0;32mas\u001b[0m \u001b[0mtf\u001b[0m\u001b[0;34m\u001b[0m\u001b[0;34m\u001b[0m\u001b[0m\n\u001b[0m\u001b[1;32m      2\u001b[0m \u001b[0;32mdef\u001b[0m \u001b[0mTF_for_Lamda\u001b[0m\u001b[0;34m(\u001b[0m\u001b[0;34m)\u001b[0m\u001b[0;34m:\u001b[0m\u001b[0;34m\u001b[0m\u001b[0;34m\u001b[0m\u001b[0m\n\u001b[1;32m      3\u001b[0m     \u001b[0;32mdef\u001b[0m \u001b[0mkproc_concat\u001b[0m\u001b[0;34m(\u001b[0m\u001b[0mx\u001b[0m\u001b[0;34m)\u001b[0m\u001b[0;34m:\u001b[0m\u001b[0;34m\u001b[0m\u001b[0;34m\u001b[0m\u001b[0m\n\u001b[1;32m      4\u001b[0m         \u001b[0mm\u001b[0m \u001b[0;34m=\u001b[0m \u001b[0mtf\u001b[0m\u001b[0;34m.\u001b[0m\u001b[0mreduce_mean\u001b[0m\u001b[0;34m(\u001b[0m\u001b[0mx\u001b[0m\u001b[0;34m,\u001b[0m \u001b[0maxis\u001b[0m\u001b[0;34m=\u001b[0m\u001b[0;36m1\u001b[0m\u001b[0;34m,\u001b[0m \u001b[0mkeep_dims\u001b[0m\u001b[0;34m=\u001b[0m\u001b[0;32mTrue\u001b[0m\u001b[0;34m)\u001b[0m\u001b[0;34m\u001b[0m\u001b[0;34m\u001b[0m\u001b[0m\n\u001b[1;32m      5\u001b[0m         \u001b[0md1\u001b[0m \u001b[0;34m=\u001b[0m \u001b[0mtf\u001b[0m\u001b[0;34m.\u001b[0m\u001b[0mabs\u001b[0m\u001b[0;34m(\u001b[0m\u001b[0mx\u001b[0m \u001b[0;34m-\u001b[0m \u001b[0mm\u001b[0m\u001b[0;34m)\u001b[0m\u001b[0;34m\u001b[0m\u001b[0;34m\u001b[0m\u001b[0m\n",
      "\u001b[0;31mModuleNotFoundError\u001b[0m: No module named 'tensorflow'"
     ]
    }
   ],
   "source": [
    "import tensorflow as tf\n",
    "def TF_for_Lamda():\n",
    "    def kproc_concat(x):    \n",
    "        m = tf.reduce_mean(x, axis=1, keep_dims=True)\n",
    "        d1 = tf.abs(x - m)\n",
    "        d2 = tf.square(x - m)\n",
    "        return tf.concat([x, d1, d2], axis=1)\n",
    "\n",
    "    def kshape_concat(input_shape):\n",
    "        output_shape = list(input_shape)\n",
    "        output_shape[1] *= 3\n",
    "        return tuple(output_shape)\n",
    "\n",
    "    x = Input((3,))\n",
    "    y = Lambda(kproc_concat, kshape_concat)(x)\n",
    "    m = Model(x, y)\n",
    "\n",
    "    yp = m.predict_on_batch(np.array([[1, 2, 3], [3, 4, 8]]))\n",
    "    print(yp)\n",
    "    \n",
    "TF_for_Lamda()"
   ]
  },
  {
   "cell_type": "code",
   "execution_count": 8,
   "metadata": {},
   "outputs": [
    {
     "ename": "TypeError",
     "evalue": "Output tensors to a Model must be Keras tensors. Found: Elemwise{add,no_inplace}.0",
     "output_type": "error",
     "traceback": [
      "\u001b[0;31m---------------------------------------------------------------------------\u001b[0m",
      "\u001b[0;31mTypeError\u001b[0m                                 Traceback (most recent call last)",
      "\u001b[0;32m<ipython-input-8-0dc18587c0ab>\u001b[0m in \u001b[0;36m<module>\u001b[0;34m()\u001b[0m\n\u001b[1;32m      7\u001b[0m     \u001b[0mprint\u001b[0m\u001b[0;34m(\u001b[0m\u001b[0myp\u001b[0m\u001b[0;34m)\u001b[0m\u001b[0;34m\u001b[0m\u001b[0;34m\u001b[0m\u001b[0m\n\u001b[1;32m      8\u001b[0m \u001b[0;34m\u001b[0m\u001b[0m\n\u001b[0;32m----> 9\u001b[0;31m \u001b[0mNo_Lambda_with_keras2\u001b[0m\u001b[0;34m(\u001b[0m\u001b[0;34m)\u001b[0m\u001b[0;34m\u001b[0m\u001b[0;34m\u001b[0m\u001b[0m\n\u001b[0m",
      "\u001b[0;32m<ipython-input-8-0dc18587c0ab>\u001b[0m in \u001b[0;36mNo_Lambda_with_keras2\u001b[0;34m()\u001b[0m\n\u001b[1;32m      2\u001b[0m     \u001b[0mx\u001b[0m \u001b[0;34m=\u001b[0m \u001b[0mInput\u001b[0m\u001b[0;34m(\u001b[0m\u001b[0;34m(\u001b[0m\u001b[0;36m2\u001b[0m\u001b[0;34m,\u001b[0m\u001b[0;34m)\u001b[0m\u001b[0;34m)\u001b[0m\u001b[0;34m\u001b[0m\u001b[0;34m\u001b[0m\u001b[0m\n\u001b[1;32m      3\u001b[0m     \u001b[0my\u001b[0m \u001b[0;34m=\u001b[0m \u001b[0mx\u001b[0m\u001b[0;34m**\u001b[0m\u001b[0;36m2\u001b[0m\u001b[0;34m+\u001b[0m\u001b[0;36m2\u001b[0m\u001b[0;34m*\u001b[0m\u001b[0mx\u001b[0m\u001b[0;34m+\u001b[0m\u001b[0;36m1\u001b[0m\u001b[0;34m\u001b[0m\u001b[0;34m\u001b[0m\u001b[0m\n\u001b[0;32m----> 4\u001b[0;31m     \u001b[0mm\u001b[0m \u001b[0;34m=\u001b[0m \u001b[0mModel\u001b[0m\u001b[0;34m(\u001b[0m\u001b[0mx\u001b[0m\u001b[0;34m,\u001b[0m \u001b[0my\u001b[0m\u001b[0;34m)\u001b[0m\u001b[0;34m\u001b[0m\u001b[0;34m\u001b[0m\u001b[0m\n\u001b[0m\u001b[1;32m      5\u001b[0m \u001b[0;34m\u001b[0m\u001b[0m\n\u001b[1;32m      6\u001b[0m     \u001b[0myp\u001b[0m \u001b[0;34m=\u001b[0m \u001b[0mm\u001b[0m\u001b[0;34m.\u001b[0m\u001b[0mpredict_on_batch\u001b[0m\u001b[0;34m(\u001b[0m\u001b[0mnp\u001b[0m\u001b[0;34m.\u001b[0m\u001b[0marray\u001b[0m\u001b[0;34m(\u001b[0m\u001b[0;34m[\u001b[0m\u001b[0;34m[\u001b[0m\u001b[0;36m1\u001b[0m\u001b[0;34m,\u001b[0m\u001b[0;36m2\u001b[0m\u001b[0;34m]\u001b[0m\u001b[0;34m,\u001b[0m\u001b[0;34m[\u001b[0m\u001b[0;36m3\u001b[0m\u001b[0;34m,\u001b[0m\u001b[0;36m4\u001b[0m\u001b[0;34m]\u001b[0m\u001b[0;34m]\u001b[0m\u001b[0;34m)\u001b[0m\u001b[0;34m)\u001b[0m\u001b[0;34m\u001b[0m\u001b[0;34m\u001b[0m\u001b[0m\n",
      "\u001b[0;32m/home/sjkim/anaconda3/envs/keras206/lib/python3.6/site-packages/keras/legacy/interfaces.py\u001b[0m in \u001b[0;36mwrapper\u001b[0;34m(*args, **kwargs)\u001b[0m\n\u001b[1;32m     85\u001b[0m                 warnings.warn('Update your `' + object_name +\n\u001b[1;32m     86\u001b[0m                               '` call to the Keras 2 API: ' + signature, stacklevel=2)\n\u001b[0;32m---> 87\u001b[0;31m             \u001b[0;32mreturn\u001b[0m \u001b[0mfunc\u001b[0m\u001b[0;34m(\u001b[0m\u001b[0;34m*\u001b[0m\u001b[0margs\u001b[0m\u001b[0;34m,\u001b[0m \u001b[0;34m**\u001b[0m\u001b[0mkwargs\u001b[0m\u001b[0;34m)\u001b[0m\u001b[0;34m\u001b[0m\u001b[0;34m\u001b[0m\u001b[0m\n\u001b[0m\u001b[1;32m     88\u001b[0m         \u001b[0mwrapper\u001b[0m\u001b[0;34m.\u001b[0m\u001b[0m_original_function\u001b[0m \u001b[0;34m=\u001b[0m \u001b[0mfunc\u001b[0m\u001b[0;34m\u001b[0m\u001b[0;34m\u001b[0m\u001b[0m\n\u001b[1;32m     89\u001b[0m         \u001b[0;32mreturn\u001b[0m \u001b[0mwrapper\u001b[0m\u001b[0;34m\u001b[0m\u001b[0;34m\u001b[0m\u001b[0m\n",
      "\u001b[0;32m/home/sjkim/anaconda3/envs/keras206/lib/python3.6/site-packages/keras/engine/topology.py\u001b[0m in \u001b[0;36m__init__\u001b[0;34m(self, inputs, outputs, name)\u001b[0m\n\u001b[1;32m   1565\u001b[0m                 \u001b[0mcls_name\u001b[0m \u001b[0;34m=\u001b[0m \u001b[0mself\u001b[0m\u001b[0;34m.\u001b[0m\u001b[0m__class__\u001b[0m\u001b[0;34m.\u001b[0m\u001b[0m__name__\u001b[0m\u001b[0;34m\u001b[0m\u001b[0;34m\u001b[0m\u001b[0m\n\u001b[1;32m   1566\u001b[0m                 raise TypeError('Output tensors to a ' + cls_name + ' must be '\n\u001b[0;32m-> 1567\u001b[0;31m                                 'Keras tensors. Found: ' + str(x))\n\u001b[0m\u001b[1;32m   1568\u001b[0m         \u001b[0;31m# Build self.output_layers:\u001b[0m\u001b[0;34m\u001b[0m\u001b[0;34m\u001b[0m\u001b[0;34m\u001b[0m\u001b[0m\n\u001b[1;32m   1569\u001b[0m         \u001b[0;32mfor\u001b[0m \u001b[0mx\u001b[0m \u001b[0;32min\u001b[0m \u001b[0mself\u001b[0m\u001b[0;34m.\u001b[0m\u001b[0moutputs\u001b[0m\u001b[0;34m:\u001b[0m\u001b[0;34m\u001b[0m\u001b[0;34m\u001b[0m\u001b[0m\n",
      "\u001b[0;31mTypeError\u001b[0m: Output tensors to a Model must be Keras tensors. Found: Elemwise{add,no_inplace}.0"
     ]
    }
   ],
   "source": [
    "def No_Lambda_with_keras2():\n",
    "    x = Input((2,))\n",
    "    y = x**2+2*x+1\n",
    "    m = Model(x, y)\n",
    "\n",
    "    yp = m.predict_on_batch(np.array([[1,2],[3,4]]))\n",
    "    print(yp)\n",
    "    \n",
    "No_Lambda_with_keras2()"
   ]
  },
  {
   "cell_type": "markdown",
   "metadata": {},
   "source": [
    "---\n",
    "### 9.2.3 전체 코드"
   ]
  },
  {
   "cell_type": "code",
   "execution_count": 34,
   "metadata": {},
   "outputs": [
    {
     "name": "stdout",
     "output_type": "stream",
     "text": [
      "Lambda with lambda\n",
      "np.array([1,2,3]) + 1:\n",
      "[[2.]\n",
      " [3.]\n",
      " [4.]]\n",
      "Lambda function\n",
      "np.array([1,2,3]) + 1:\n",
      "[[ 4.]\n",
      " [ 9.]\n",
      " [16.]]\n",
      "Backend for Lambda\n",
      "[[1. 2. 3. 1. 0. 1. 1. 0. 1.]\n",
      " [3. 4. 8. 2. 1. 3. 4. 1. 9.]]\n",
      "TF for Lambda\n",
      "[[1. 2. 3. 1. 0. 1. 1. 0. 1.]\n",
      " [3. 4. 8. 2. 1. 3. 4. 1. 9.]]\n"
     ]
    }
   ],
   "source": [
    "from keras.layers import Lambda, Input\n",
    "from keras.models import Model\n",
    "\n",
    "def Lambda_with_lambda():\n",
    "    x = Input((1,))\n",
    "    y = Lambda(lambda x: x + 1)(x)\n",
    "    m = Model(x, y)\n",
    "\n",
    "    yp = m.predict_on_batch(np.array([1, 2, 3]))\n",
    "    print(yp)\n",
    "\n",
    "\n",
    "def Lambda_function():\n",
    "    def kproc(x):\n",
    "        return x ** 2 + 2 * x + 1\n",
    "\n",
    "    def kshape(input_shape):\n",
    "        return input_shape\n",
    "\n",
    "    x = Input((1,))\n",
    "    y = Lambda(kproc, kshape)(x)\n",
    "    m = Model(x, y)\n",
    "\n",
    "    yp = m.predict_on_batch(np.array([1, 2, 3]))\n",
    "    print(yp)\n",
    "\n",
    "    \n",
    "from keras import backend as K\n",
    "def Backend_for_Lambda():\n",
    "    def kproc_concat(x):    \n",
    "        m = K.mean(x, axis=1, keepdims=True)\n",
    "        d1 = K.abs(x - m)\n",
    "        d2 = K.square(x - m)\n",
    "        return K.concatenate([x, d1, d2], axis=1)\n",
    "\n",
    "    def kshape_concat(input_shape):\n",
    "        output_shape = list(input_shape)\n",
    "        output_shape[1] *= 3\n",
    "        return tuple(output_shape)\n",
    "\n",
    "    x = Input((3,))\n",
    "    y = Lambda(kproc_concat, kshape_concat)(x)\n",
    "    m = Model(x, y)\n",
    "\n",
    "    yp = m.predict_on_batch(np.array([[1, 2, 3], [3, 4, 8]]))\n",
    "    print(yp)\n",
    "\n",
    "    \n",
    "import tensorflow as tf\n",
    "def TF_for_Lamda():\n",
    "    def kproc_concat(x):    \n",
    "        m = tf.reduce_mean(x, axis=1, keepdims=True)\n",
    "        d1 = tf.abs(x - m)\n",
    "        d2 = tf.square(x - m)\n",
    "        return tf.concat([x, d1, d2], axis=1)\n",
    "\n",
    "    def kshape_concat(input_shape):\n",
    "        output_shape = list(input_shape)\n",
    "        output_shape[1] *= 3\n",
    "        return tuple(output_shape)\n",
    "\n",
    "    x = Input((3,))\n",
    "    y = Lambda(kproc_concat, kshape_concat)(x)\n",
    "    m = Model(x, y)\n",
    "\n",
    "    yp = m.predict_on_batch(np.array([[1, 2, 3], [3, 4, 8]]))\n",
    "    print(yp)\n",
    "\n",
    "\n",
    "def main():\n",
    "    print('Lambda with lambda')\n",
    "    Lambda_with_lambda()\n",
    "\n",
    "    print('Lambda function')\n",
    "    Lambda_function()\n",
    "\n",
    "    print('Backend for Lambda')\n",
    "    Backend_for_Lambda()\n",
    "\n",
    "    print('TF for Lambda')\n",
    "    TF_for_Lamda()\n",
    "\n",
    "main()"
   ]
  },
  {
   "cell_type": "code",
   "execution_count": null,
   "metadata": {},
   "outputs": [],
   "source": []
  }
 ],
 "metadata": {
  "kernelspec": {
   "display_name": "keras206",
   "language": "python",
   "name": "keras206"
  },
  "language_info": {
   "codemirror_mode": {
    "name": "ipython",
    "version": 3
   },
   "file_extension": ".py",
   "mimetype": "text/x-python",
   "name": "python",
   "nbconvert_exporter": "python",
   "pygments_lexer": "ipython3",
   "version": "3.6.13"
  },
  "toc": {
   "nav_menu": {},
   "number_sections": true,
   "sideBar": true,
   "skip_h1_title": true,
   "toc_cell": false,
   "toc_position": {},
   "toc_section_display": "block",
   "toc_window_display": false
  }
 },
 "nbformat": 4,
 "nbformat_minor": 4
}
