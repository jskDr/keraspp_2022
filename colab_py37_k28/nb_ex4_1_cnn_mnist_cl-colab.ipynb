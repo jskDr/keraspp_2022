{
  "cells": [
    {
      "cell_type": "markdown",
      "metadata": {
        "id": "jgAk0_Dwrvdn"
      },
      "source": [
        "## 4.2 필기체를 분류하는 CNN 구현 \n",
        "2장, 3장에서 다룬 필기체 데이터를 CNN으로 분류합니다.\n",
        "\n",
        "### 4.2.1 분류 CNN 모델링 \n",
        "1. 합성곱 계층들과 완전 연결 계층들이 결합하여 구성된 분류 CNN을 모델링하는 방법을 알아보겠습니다."
      ]
    },
    {
      "cell_type": "markdown",
      "metadata": {
        "id": "q6xD9V3mrvdr"
      },
      "source": [
        "- 모델링에 필요한 케라스 패키지들을 불러오는 것이 우선입니다."
      ]
    },
    {
      "cell_type": "code",
      "execution_count": 5,
      "metadata": {
        "id": "ML7svNM7rvds"
      },
      "outputs": [],
      "source": [
        "import keras\n",
        "from keras import models, layers\n",
        "from keras import backend"
      ]
    },
    {
      "cell_type": "markdown",
      "metadata": {
        "id": "kJ99aF9Brvdu"
      },
      "source": [
        "- CNN 객체를 models.Sequential로 상속하여 연쇄 방식으로 모델을 구현합니다."
      ]
    },
    {
      "cell_type": "code",
      "execution_count": 6,
      "metadata": {
        "id": "-FWLbFkxrvdv"
      },
      "outputs": [],
      "source": [
        "class CNN(models.Sequential):\n",
        "    def __init__(self, input_shape, num_classes):\n",
        "        super().__init__()\n",
        "\n",
        "        self.add(layers.Conv2D(32, kernel_size=(3, 3),\n",
        "                 activation='relu',\n",
        "                 input_shape=input_shape))\n",
        "        self.add(layers.Conv2D(64, (3, 3), activation='relu'))\n",
        "        self.add(layers.MaxPooling2D(pool_size=(2, 2)))\n",
        "        self.add(layers.Dropout(0.25))\n",
        "        self.add(layers.Flatten())\n",
        "        self.add(layers.Dense(128, activation='relu'))\n",
        "        self.add(layers.Dropout(0.5))\n",
        "        self.add(layers.Dense(num_classes, activation='softmax'))\n",
        "\n",
        "        self.compile(loss=keras.losses.categorical_crossentropy,\n",
        "                      optimizer='rmsprop',\n",
        "                      metrics=['accuracy'])"
      ]
    },
    {
      "cell_type": "markdown",
      "metadata": {
        "id": "74e-AUzIrvdw"
      },
      "source": [
        "### 4.2.3 분류 CNN을 위한 데이터 준비  \n",
        "2. 분류 CNN에 사용할 데이터인 앞선 장들에 나왔던 MNIST이고 이에 대한 CNN을 위한 사전처리를 진행합니다. "
      ]
    },
    {
      "cell_type": "code",
      "execution_count": 13,
      "metadata": {
        "id": "MGLW6xSfrvdx"
      },
      "outputs": [],
      "source": [
        "#from keras import datasets \n",
        "from tensorflow.keras import datasets # colab, py27, keras28\n",
        "from tensorflow.keras import utils # colab, py27, keras28\n",
        "\n",
        "class DATA():\n",
        "    def __init__(self):\n",
        "        num_classes = 10\n",
        "\n",
        "        (x_train, y_train), (x_test, y_test) = datasets.mnist.load_data()\n",
        "        img_rows, img_cols = x_train.shape[1:]\n",
        "\n",
        "        if backend.image_data_format() == 'channels_first':\n",
        "            x_train = x_train.reshape(x_train.shape[0], 1, img_rows, img_cols)\n",
        "            x_test = x_test.reshape(x_test.shape[0], 1, img_rows, img_cols)\n",
        "            input_shape = (1, img_rows, img_cols)\n",
        "        else:\n",
        "            x_train = x_train.reshape(x_train.shape[0], img_rows, img_cols, 1)\n",
        "            x_test = x_test.reshape(x_test.shape[0], img_rows, img_cols, 1)\n",
        "            input_shape = (img_rows, img_cols, 1)\n",
        "\n",
        "        x_train = x_train.astype('float32')\n",
        "        x_test = x_test.astype('float32')\n",
        "        x_train /= 255\n",
        "        x_test /= 255\n",
        "\n",
        "        #y_train = keras.utils.to_categorical(y_train, num_classes)\n",
        "        #y_test = keras.utils.to_categorical(y_test, num_classes)\n",
        "        y_train = utils.to_categorical(y_train, num_classes)\n",
        "        y_test = utils.to_categorical(y_test, num_classes)\n",
        "        \n",
        "\n",
        "        self.input_shape = input_shape\n",
        "        self.num_classes = num_classes\n",
        "        self.x_train, self.y_train = x_train, y_train\n",
        "        self.x_test, self.y_test = x_test, y_test  "
      ]
    },
    {
      "cell_type": "markdown",
      "metadata": {
        "id": "2tItnJEWrvdz"
      },
      "source": [
        "### 4.2.3 학습 효과 분석\n",
        "3. 학습 효과를 분석하기 위해 그래프를 그리는 기능을 임포트합니다. "
      ]
    },
    {
      "cell_type": "code",
      "execution_count": 14,
      "metadata": {
        "id": "ZXxAMcRsrvd0"
      },
      "outputs": [],
      "source": [
        "from keraspp.skeras import plot_loss, plot_acc\n",
        "import matplotlib.pyplot as plt"
      ]
    },
    {
      "cell_type": "markdown",
      "metadata": {
        "id": "_kp_IlQErvd1"
      },
      "source": [
        "### 4.2.4 분류 CNN 학습 및 성능 평가\n",
        "4. 데이터와 모델이 준비되었으니 이제 이들을 이용해 학습과 성능 평가를 진행할 차례입니다. "
      ]
    },
    {
      "cell_type": "code",
      "execution_count": 15,
      "metadata": {
        "id": "4jbLwILWrvd2",
        "outputId": "6424d719-e0e6-4fc3-ed05-e6ee3df02d0a",
        "colab": {
          "base_uri": "https://localhost:8080/",
          "height": 982
        }
      },
      "outputs": [
        {
          "output_type": "stream",
          "name": "stdout",
          "text": [
            "Epoch 1/10\n",
            "375/375 [==============================] - 14s 10ms/step - loss: 0.2535 - accuracy: 0.9229 - val_loss: 0.0694 - val_accuracy: 0.9796\n",
            "Epoch 2/10\n",
            "375/375 [==============================] - 4s 9ms/step - loss: 0.0912 - accuracy: 0.9733 - val_loss: 0.0512 - val_accuracy: 0.9847\n",
            "Epoch 3/10\n",
            "375/375 [==============================] - 3s 9ms/step - loss: 0.0680 - accuracy: 0.9801 - val_loss: 0.0445 - val_accuracy: 0.9874\n",
            "Epoch 4/10\n",
            "375/375 [==============================] - 4s 10ms/step - loss: 0.0544 - accuracy: 0.9840 - val_loss: 0.0402 - val_accuracy: 0.9887\n",
            "Epoch 5/10\n",
            "375/375 [==============================] - 4s 10ms/step - loss: 0.0470 - accuracy: 0.9860 - val_loss: 0.0455 - val_accuracy: 0.9862\n",
            "Epoch 6/10\n",
            "375/375 [==============================] - 3s 9ms/step - loss: 0.0439 - accuracy: 0.9872 - val_loss: 0.0389 - val_accuracy: 0.9884\n",
            "Epoch 7/10\n",
            "375/375 [==============================] - 3s 9ms/step - loss: 0.0400 - accuracy: 0.9877 - val_loss: 0.0362 - val_accuracy: 0.9896\n",
            "Epoch 8/10\n",
            "375/375 [==============================] - 4s 10ms/step - loss: 0.0388 - accuracy: 0.9884 - val_loss: 0.0385 - val_accuracy: 0.9898\n",
            "Epoch 9/10\n",
            "375/375 [==============================] - 4s 9ms/step - loss: 0.0376 - accuracy: 0.9887 - val_loss: 0.0384 - val_accuracy: 0.9908\n",
            "Epoch 10/10\n",
            "375/375 [==============================] - 4s 10ms/step - loss: 0.0379 - accuracy: 0.9884 - val_loss: 0.0365 - val_accuracy: 0.9906\n",
            "313/313 [==============================] - 1s 3ms/step - loss: 0.0293 - accuracy: 0.9917\n",
            "\n",
            "Test loss: 0.029288223013281822\n",
            "Test accuracy: 0.9916999936103821\n"
          ]
        },
        {
          "output_type": "display_data",
          "data": {
            "text/plain": [
              "<Figure size 432x288 with 1 Axes>"
            ],
            "image/png": "[encoded data removed]"
          },
          "metadata": {
            "needs_background": "light"
          }
        },
        {
          "output_type": "display_data",
          "data": {
            "text/plain": [
              "<Figure size 432x288 with 1 Axes>"
            ],
            "image/png": "[encoded data removed]"
          },
          "metadata": {
            "needs_background": "light"
          }
        }
      ],
      "source": [
        "batch_size = 128\n",
        "epochs = 10\n",
        "\n",
        "data = DATA()\n",
        "model = CNN(data.input_shape, data.num_classes)\n",
        "\n",
        "history = model.fit(data.x_train, data.y_train,\n",
        "          batch_size=batch_size,\n",
        "          epochs=epochs,\n",
        "          validation_split=0.2)\n",
        "\n",
        "score = model.evaluate(data.x_test, data.y_test)\n",
        "print()\n",
        "print('Test loss:', score[0])\n",
        "print('Test accuracy:', score[1])\n",
        "\n",
        "plot_loss(history)\n",
        "plt.show()\n",
        "plot_acc(history)\n",
        "plt.show()"
      ]
    },
    {
      "cell_type": "markdown",
      "metadata": {
        "id": "C6ab149lrvd4"
      },
      "source": [
        "---\n",
        "### 4.2.4 전체 코드"
      ]
    },
    {
      "cell_type": "code",
      "execution_count": 16,
      "metadata": {
        "id": "V-aPdGa_rvd4",
        "colab": {
          "base_uri": "https://localhost:8080/",
          "height": 982
        },
        "outputId": "288af2cd-f23e-447a-baac-30d613d1f3c0"
      },
      "outputs": [
        {
          "output_type": "stream",
          "name": "stdout",
          "text": [
            "Epoch 1/10\n",
            "375/375 [==============================] - 4s 10ms/step - loss: 0.2530 - accuracy: 0.9226 - val_loss: 0.0657 - val_accuracy: 0.9803\n",
            "Epoch 2/10\n",
            "375/375 [==============================] - 4s 10ms/step - loss: 0.0884 - accuracy: 0.9738 - val_loss: 0.0494 - val_accuracy: 0.9854\n",
            "Epoch 3/10\n",
            "375/375 [==============================] - 4s 10ms/step - loss: 0.0661 - accuracy: 0.9806 - val_loss: 0.0448 - val_accuracy: 0.9866\n",
            "Epoch 4/10\n",
            "375/375 [==============================] - 4s 10ms/step - loss: 0.0563 - accuracy: 0.9833 - val_loss: 0.0476 - val_accuracy: 0.9861\n",
            "Epoch 5/10\n",
            "375/375 [==============================] - 4s 11ms/step - loss: 0.0495 - accuracy: 0.9854 - val_loss: 0.0469 - val_accuracy: 0.9870\n",
            "Epoch 6/10\n",
            "375/375 [==============================] - 4s 10ms/step - loss: 0.0455 - accuracy: 0.9869 - val_loss: 0.0462 - val_accuracy: 0.9878\n",
            "Epoch 7/10\n",
            "375/375 [==============================] - 4s 10ms/step - loss: 0.0443 - accuracy: 0.9871 - val_loss: 0.0516 - val_accuracy: 0.9881\n",
            "Epoch 8/10\n",
            "375/375 [==============================] - 4s 10ms/step - loss: 0.0411 - accuracy: 0.9875 - val_loss: 0.0426 - val_accuracy: 0.9879\n",
            "Epoch 9/10\n",
            "375/375 [==============================] - 4s 10ms/step - loss: 0.0411 - accuracy: 0.9882 - val_loss: 0.0437 - val_accuracy: 0.9897\n",
            "Epoch 10/10\n",
            "375/375 [==============================] - 4s 10ms/step - loss: 0.0420 - accuracy: 0.9878 - val_loss: 0.0421 - val_accuracy: 0.9886\n",
            "313/313 [==============================] - 1s 3ms/step - loss: 0.0338 - accuracy: 0.9893\n",
            "\n",
            "Test loss: 0.03380190208554268\n",
            "Test accuracy: 0.989300012588501\n"
          ]
        },
        {
          "output_type": "display_data",
          "data": {
            "text/plain": [
              "<Figure size 432x288 with 1 Axes>"
            ],
            "image/png": "[encoded data removed]"
          },
          "metadata": {
            "needs_background": "light"
          }
        },
        {
          "output_type": "display_data",
          "data": {
            "text/plain": [
              "<Figure size 432x288 with 1 Axes>"
            ],
            "image/png": "[encoded data removed]"
          },
          "metadata": {
            "needs_background": "light"
          }
        }
      ],
      "source": [
        "# File: ex4_1_cnn_mnist_cl.py\n",
        "\n",
        "# 1. 분류 CNN 모델링\n",
        "import keras\n",
        "from keras import models, layers\n",
        "from keras import backend\n",
        "\n",
        "class CNN(models.Sequential):\n",
        "    def __init__(self, input_shape, num_classes):\n",
        "        super().__init__()\n",
        "\n",
        "        self.add(layers.Conv2D(32, kernel_size=(3, 3),\n",
        "                 activation='relu',\n",
        "                 input_shape=input_shape))\n",
        "        self.add(layers.Conv2D(64, (3, 3), activation='relu'))\n",
        "        self.add(layers.MaxPooling2D(pool_size=(2, 2)))\n",
        "        self.add(layers.Dropout(0.25))\n",
        "        self.add(layers.Flatten())\n",
        "        self.add(layers.Dense(128, activation='relu'))\n",
        "        self.add(layers.Dropout(0.5))\n",
        "        self.add(layers.Dense(num_classes, activation='softmax'))\n",
        "\n",
        "        self.compile(loss=keras.losses.categorical_crossentropy,\n",
        "                      optimizer='rmsprop',\n",
        "                      metrics=['accuracy'])\n",
        "\n",
        "# 2. 분류 CNN을 위한 데이터 준비  \n",
        "#from keras import datasets \n",
        "from tensorflow.keras import datasets # colab, py27, keras28 \n",
        "from tensorflow.keras import utils # colab, py27, keras28\n",
        "\n",
        "class DATA():\n",
        "    def __init__(self):\n",
        "        num_classes = 10\n",
        "\n",
        "        (x_train, y_train), (x_test, y_test) = datasets.mnist.load_data()\n",
        "        img_rows, img_cols = x_train.shape[1:]\n",
        "\n",
        "        if backend.image_data_format() == 'channels_first':\n",
        "            x_train = x_train.reshape(x_train.shape[0], 1, img_rows, img_cols)\n",
        "            x_test = x_test.reshape(x_test.shape[0], 1, img_rows, img_cols)\n",
        "            input_shape = (1, img_rows, img_cols)\n",
        "        else:\n",
        "            x_train = x_train.reshape(x_train.shape[0], img_rows, img_cols, 1)\n",
        "            x_test = x_test.reshape(x_test.shape[0], img_rows, img_cols, 1)\n",
        "            input_shape = (img_rows, img_cols, 1)\n",
        "\n",
        "        x_train = x_train.astype('float32')\n",
        "        x_test = x_test.astype('float32')\n",
        "        x_train /= 255\n",
        "        x_test /= 255\n",
        "\n",
        "        y_train = utils.to_categorical(y_train, num_classes)\n",
        "        y_test = utils.to_categorical(y_test, num_classes)\n",
        "        \n",
        "        self.input_shape = input_shape\n",
        "        self.num_classes = num_classes\n",
        "        self.x_train, self.y_train = x_train, y_train\n",
        "        self.x_test, self.y_test = x_test, y_test        \n",
        "        \n",
        "# 3. 학습 효과 분석\n",
        "from keraspp.skeras import plot_loss, plot_acc\n",
        "import matplotlib.pyplot as plt\n",
        "\n",
        "# 4. 분류 CNN 학습 및 테스트\n",
        "def main():\n",
        "    batch_size = 128\n",
        "    epochs = 10\n",
        "\n",
        "    data = DATA()\n",
        "    model = CNN(data.input_shape, data.num_classes)\n",
        "\n",
        "    history = model.fit(data.x_train, data.y_train,\n",
        "              batch_size=batch_size,\n",
        "              epochs=epochs,\n",
        "              validation_split=0.2)\n",
        "\n",
        "    score = model.evaluate(data.x_test, data.y_test)\n",
        "    print()\n",
        "    print('Test loss:', score[0])\n",
        "    print('Test accuracy:', score[1])\n",
        "\n",
        "    plot_loss(history)\n",
        "    plt.show()\n",
        "    plot_acc(history)\n",
        "    plt.show()\n",
        "\n",
        "main()"
      ]
    },
    {
      "cell_type": "code",
      "source": [
        ""
      ],
      "metadata": {
        "id": "07CLsbc2vX_k"
      },
      "execution_count": null,
      "outputs": []
    }
  ],
  "metadata": {
    "kernelspec": {
      "display_name": "Python 3",
      "name": "python3"
    },
    "language_info": {
      "name": "python"
    },
    "toc": {
      "nav_menu": {},
      "number_sections": true,
      "sideBar": true,
      "skip_h1_title": true,
      "toc_cell": false,
      "toc_position": {},
      "toc_section_display": "block",
      "toc_window_display": false
    },
    "colab": {
      "name": "nb_ex4_1_cnn_mnist_cl-colab.ipynb",
      "provenance": []
    },
    "accelerator": "GPU"
  },
  "nbformat": 4,
  "nbformat_minor": 0
}