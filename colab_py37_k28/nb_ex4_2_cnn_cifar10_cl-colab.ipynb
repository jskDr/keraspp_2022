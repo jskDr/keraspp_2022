{
  "cells": [
    {
      "cell_type": "markdown",
      "metadata": {
        "id": "zG5Zroi2yTX6"
      },
      "source": [
        "## 4.3 컬러 이미지를 분류하는 CNN 구현\n",
        "CNN을 이용해 사진을 분류하는 방법을 다룹니다.\n",
        "\n",
        "### 4.3.1 분류 CNN 패키지 임포트"
      ]
    },
    {
      "cell_type": "markdown",
      "metadata": {
        "id": "qLjrwrVuyTX-"
      },
      "source": [
        "1. 필요한 패키지들을 임포트합니다."
      ]
    },
    {
      "cell_type": "code",
      "execution_count": 1,
      "metadata": {
        "id": "Il5IIGoSyTX-"
      },
      "outputs": [],
      "source": [
        "from sklearn import model_selection, metrics\n",
        "from sklearn.preprocessing import MinMaxScaler"
      ]
    },
    {
      "cell_type": "markdown",
      "metadata": {
        "id": "MH0wcnWzyTYA"
      },
      "source": [
        "- 유용한 기능을 제공하는 다른 파이썬 패키지도 임포트합니다."
      ]
    },
    {
      "cell_type": "code",
      "execution_count": 2,
      "metadata": {
        "id": "P_psL-oryTYA"
      },
      "outputs": [],
      "source": [
        "import numpy as np\n",
        "import matplotlib.pyplot as plt\n",
        "import os"
      ]
    },
    {
      "cell_type": "markdown",
      "metadata": {
        "id": "a_vgK56XyTYB"
      },
      "source": [
        "- 케라스 모델링을 위한 서브패키지들을 불러옵니다."
      ]
    },
    {
      "cell_type": "code",
      "execution_count": 3,
      "metadata": {
        "id": "isqCkovRyTYB"
      },
      "outputs": [],
      "source": [
        "from keras import backend as K\n",
        "from keras.utils import np_utils\n",
        "from keras.models import Model\n",
        "from keras.layers import Input, Conv2D, MaxPooling2D, Flatten, Dense, Dropout"
      ]
    },
    {
      "cell_type": "markdown",
      "metadata": {
        "id": "Uqjs9fYfyTYC"
      },
      "source": [
        "- 케라스를 편리하게 사용하기 위해 여기서 만든 2가지 모듈을 불러옵니다."
      ]
    },
    {
      "cell_type": "code",
      "execution_count": 5,
      "metadata": {
        "id": "34E4Z3XUyTYC"
      },
      "outputs": [],
      "source": [
        "from keraspp import skeras\n",
        "from keraspp import sfile"
      ]
    },
    {
      "cell_type": "markdown",
      "metadata": {
        "id": "zbjgHp_RyTYD"
      },
      "source": [
        "### 4.3.2 분류 CNN 모델링"
      ]
    },
    {
      "cell_type": "markdown",
      "metadata": {
        "id": "mFWC4ZeQyTYE"
      },
      "source": [
        "2. 분류 CNN 모델링을 만듭니다."
      ]
    },
    {
      "cell_type": "code",
      "execution_count": 6,
      "metadata": {
        "id": "LUYbINvtyTYE"
      },
      "outputs": [],
      "source": [
        "# 2. 분류 CNN 모델링\n",
        "class CNN(Model):\n",
        "    def __init__(self, nb_classes): \n",
        "        super(CNN,self).__init__() \n",
        "        self.nb_classes = nb_classes\n",
        "        \n",
        "        self.conv2D_A = Conv2D(32, kernel_size=(3, 3), activation='relu')\n",
        "        self.conv2D_B = Conv2D(64, (3, 3), activation='relu')\n",
        "        self.maxPooling2D_A = MaxPooling2D(pool_size=(2, 2))\n",
        "        self.dropout_A = Dropout(0.25)\n",
        "        self.flatten = Flatten()\n",
        "        \n",
        "        self.dense_A = Dense(128, activation='relu')\n",
        "        self.dropout_B = Dropout(0.5)\n",
        "        self.dense_B = Dense(nb_classes, activation='softmax', name='preds')\n",
        "        \n",
        "    def call(self, x):\n",
        "        h = self.conv2D_A(x)\n",
        "        h = self.conv2D_B(h)\n",
        "        h = self.maxPooling2D_A(h)\n",
        "        h = self.dropout_A(h)\n",
        "        h = self.flatten(h)\n",
        "\n",
        "        h = self.dense_A(h)\n",
        "        h = self.dropout_B(h)\n",
        "\n",
        "        y = self.dense_B(h)\n",
        "        \n",
        "        return y"
      ]
    },
    {
      "cell_type": "code",
      "execution_count": 7,
      "metadata": {
        "id": "Rf7AVD5XyTYF"
      },
      "outputs": [],
      "source": [
        "nb_classes = 10\n",
        "model = CNN(nb_classes=nb_classes)\n",
        "model.compile(loss='categorical_crossentropy',\n",
        "                      optimizer='adadelta', metrics=['accuracy'])"
      ]
    },
    {
      "cell_type": "markdown",
      "metadata": {
        "id": "Jl6Slv8UyTYF"
      },
      "source": [
        "### 4.3.3 분류 CNN을 위한 데이터 준비"
      ]
    },
    {
      "cell_type": "markdown",
      "metadata": {
        "id": "dfbnRhtlyTYF"
      },
      "source": [
        "3. 주어진 데이터를 해당 머신러닝에 사용하기 적합하도록 조정하는 기능을 하는 DataSet 클래스를 만듭니다."
      ]
    },
    {
      "cell_type": "code",
      "execution_count": 8,
      "metadata": {
        "id": "gWJbgYZTyTYF"
      },
      "outputs": [],
      "source": [
        "# 3. 분류 CNN을 위한 데이터 준비\n",
        "class DataSet:\n",
        "    def __init__(self, X, y, nb_classes, scaling=True, \n",
        "                 test_size=0.2, random_state=0):\n",
        "        self.X = X\n",
        "        self.add_channels()\n",
        "        X = self.X\n",
        "        \n",
        "        # the data, shuffled and split between train and test sets\n",
        "        X_train, X_test, y_train, y_test = model_selection.train_test_split(\n",
        "            X, y, test_size=0.2, random_state=random_state)\n",
        "\n",
        "        print(X_train.shape, y_train.shape)\n",
        "\n",
        "        X_train = X_train.astype('float32')\n",
        "        X_test = X_test.astype('float32')\n",
        "\n",
        "        if scaling:\n",
        "            # scaling to have (0, 1) for each feature (each pixel)\n",
        "            scaler = MinMaxScaler()\n",
        "            n = X_train.shape[0]\n",
        "            X_train = scaler.fit_transform(\n",
        "                X_train.reshape(n, -1)).reshape(X_train.shape)\n",
        "            n = X_test.shape[0]\n",
        "            X_test = scaler.transform(\n",
        "                X_test.reshape(n, -1)).reshape(X_test.shape)\n",
        "            self.scaler = scaler\n",
        "\n",
        "        print('X_train shape:', X_train.shape)\n",
        "        print(X_train.shape[0], 'train samples')\n",
        "        print(X_test.shape[0], 'test samples')\n",
        "\n",
        "        # convert class vectors to binary class matrices\n",
        "        Y_train = np_utils.to_categorical(y_train, nb_classes)\n",
        "        Y_test = np_utils.to_categorical(y_test, nb_classes)\n",
        "\n",
        "        self.X_train, self.X_test = X_train, X_test\n",
        "        self.Y_train, self.Y_test = Y_train, Y_test\n",
        "        self.y_train, self.y_test = y_train, y_test\n",
        "\n",
        "    def add_channels(self):\n",
        "        X = self.X\n",
        "\n",
        "        if len(X.shape) == 3:\n",
        "            N, img_rows, img_cols = X.shape\n",
        "\n",
        "            if K.image_dim_ordering() == 'th':\n",
        "                X = X.reshape(X.shape[0], 1, img_rows, img_cols)\n",
        "                input_shape = (1, img_rows, img_cols)\n",
        "            else:\n",
        "                X = X.reshape(X.shape[0], img_rows, img_cols, 1)\n",
        "                input_shape = (img_rows, img_cols, 1)\n",
        "        else:\n",
        "            input_shape = X.shape[1:]  # channel is already included.\n",
        "\n",
        "        self.X = X\n",
        "        self.input_shape = input_shape"
      ]
    },
    {
      "cell_type": "code",
      "execution_count": 10,
      "metadata": {
        "id": "pAPuOQOyyTYG",
        "outputId": "08e4628e-9305-45ae-bdc8-78739d49d58c",
        "colab": {
          "base_uri": "https://localhost:8080/"
        }
      },
      "outputs": [
        {
          "output_type": "stream",
          "name": "stdout",
          "text": [
            "Downloading data from https://www.cs.toronto.edu/~kriz/cifar-10-python.tar.gz\n",
            "170500096/170498071 [==============================] - 2s 0us/step\n",
            "170508288/170498071 [==============================] - 2s 0us/step\n",
            "(40000, 32, 32, 3) (40000, 1)\n",
            "X_train shape: (40000, 32, 32, 3)\n",
            "40000 train samples\n",
            "10000 test samples\n",
            "data.input_shape (32, 32, 3)\n"
          ]
        }
      ],
      "source": [
        "#from keras import datasets\n",
        "from tensorflow.keras import datasets\n",
        "(X, y), (x_test, y_test) = datasets.cifar10.load_data()\n",
        "nb_classes = 10\n",
        "data = DataSet(X, y, nb_classes)\n",
        "print('data.input_shape', data.input_shape)"
      ]
    },
    {
      "cell_type": "code",
      "execution_count": 11,
      "metadata": {
        "id": "Z-fbVlNjyTYH",
        "outputId": "58c39257-5626-4399-f770-a2fa7b70f841",
        "colab": {
          "base_uri": "https://localhost:8080/"
        }
      },
      "outputs": [
        {
          "output_type": "stream",
          "name": "stdout",
          "text": [
            "Epoch 1/2\n",
            "313/313 [==============================] - 16s 21ms/step - loss: 2.3165 - accuracy: 0.1016 - val_loss: 2.3036 - val_accuracy: 0.0994\n",
            "Epoch 2/2\n",
            "313/313 [==============================] - 6s 20ms/step - loss: 2.3042 - accuracy: 0.1076 - val_loss: 2.2940 - val_accuracy: 0.1412\n"
          ]
        }
      ],
      "source": [
        "epochs=2\n",
        "batch_size=128\n",
        "verbose=1\n",
        "history = model.fit(data.X_train, data.Y_train, \n",
        "                    batch_size=batch_size, epochs=epochs,\n",
        "                    verbose=verbose, \n",
        "                    validation_data=(data.X_test, data.Y_test))"
      ]
    },
    {
      "cell_type": "markdown",
      "metadata": {
        "id": "xVPeJojTyTYH"
      },
      "source": [
        "### 4.3.4 분류 CNN의 학습 및 성능 평가를 위한 머신 클래스"
      ]
    },
    {
      "cell_type": "markdown",
      "metadata": {
        "id": "-oudhvoYyTYI"
      },
      "source": [
        "4. 학습 및 성능 평가를 쉽게 수행할 수 있는 상위 개념 클래스인 Machine을 만듭니다. "
      ]
    },
    {
      "cell_type": "code",
      "execution_count": 12,
      "metadata": {
        "id": "FTV7mIAxyTYI"
      },
      "outputs": [],
      "source": [
        "# 4. 분류 CNN의 학습 및 성능 평가를 위한 머신 클래스\n",
        "class Machine():\n",
        "    def __init__(self, X, y, nb_classes=2, fig=True):\n",
        "        self.nb_classes = nb_classes\n",
        "        self.set_data(X, y)\n",
        "        self.set_model()\n",
        "        self.fig = fig\n",
        "\n",
        "    def set_data(self, X, y):\n",
        "        nb_classes = self.nb_classes\n",
        "        self.data = DataSet(X, y, nb_classes)\n",
        "        print('data.input_shape', self.data.input_shape)\n",
        "\n",
        "    def set_model(self):\n",
        "        nb_classes = self.nb_classes\n",
        "        data = self.data\n",
        "        self.model = CNN(nb_classes=nb_classes)\n",
        "        self.model.compile(loss='categorical_crossentropy',\n",
        "                      optimizer='adadelta', metrics=['accuracy'])        \n",
        "\n",
        "    def fit(self, epochs=10, batch_size=128, verbose=1):\n",
        "        data = self.data\n",
        "        model = self.model\n",
        "\n",
        "        history = model.fit(data.X_train, data.Y_train, \n",
        "                            batch_size=batch_size, epochs=epochs,\n",
        "                            verbose=verbose, \n",
        "                            validation_data=(data.X_test, data.Y_test))\n",
        "        return history\n",
        "\n",
        "    def run(self, epochs=100, batch_size=128, verbose=1):\n",
        "        data = self.data\n",
        "        model = self.model\n",
        "        fig = self.fig\n",
        "\n",
        "        history = self.fit(epochs=epochs,\n",
        "                           batch_size=batch_size, verbose=verbose)\n",
        "\n",
        "        score = model.evaluate(data.X_test, data.Y_test, verbose=0)\n",
        "\n",
        "        print('Confusion matrix')\n",
        "        Y_test_pred = model.predict(data.X_test, verbose=0)\n",
        "        y_test_pred = np.argmax(Y_test_pred, axis=1)\n",
        "        print(metrics.confusion_matrix(data.y_test, y_test_pred))\n",
        "\n",
        "        print('Test score:', score[0])\n",
        "        print('Test accuracy:', score[1])\n",
        "\n",
        "        # Save results\n",
        "        suffix = sfile.unique_filename('datatime')\n",
        "        foldname = 'output_' + suffix\n",
        "        os.makedirs(foldname)\n",
        "        skeras.save_history_history(\n",
        "            'history_history.npy', history.history, fold=foldname)\n",
        "        model.save_weights(os.path.join(foldname, 'dl_model.h5'))\n",
        "        print('Output results are saved in', foldname)\n",
        "\n",
        "        if fig:\n",
        "            plt.figure(figsize=(12, 4))\n",
        "            plt.subplot(1, 2, 1)\n",
        "            skeras.plot_acc(history)\n",
        "            plt.subplot(1, 2, 2)\n",
        "            skeras.plot_loss(history)\n",
        "            plt.show()\n",
        "\n",
        "        self.history = history\n",
        "\n",
        "        return foldname"
      ]
    },
    {
      "cell_type": "markdown",
      "metadata": {
        "id": "KOKh3-isyTYI"
      },
      "source": [
        "---\n",
        "### 4.3.5 분류 CNN을 처리하는 머쉰의 전체 코드"
      ]
    },
    {
      "cell_type": "code",
      "execution_count": 13,
      "metadata": {
        "id": "NtYinTLzyTYJ"
      },
      "outputs": [],
      "source": [
        "# File - keraspp/aicnn.py\n",
        "\n",
        "# 1. 분류 CNN 패키지 임포트 \n",
        "from sklearn import model_selection, metrics\n",
        "from sklearn.preprocessing import MinMaxScaler\n",
        "import numpy as np\n",
        "import matplotlib.pyplot as plt\n",
        "import os\n",
        "\n",
        "from keras import backend as K\n",
        "from keras.utils import np_utils\n",
        "from keras.models import Model\n",
        "from keras.layers import Input, Conv2D, MaxPooling2D, Flatten, Dense, Dropout\n",
        "\n",
        "from keraspp import skeras\n",
        "from keraspp import sfile\n",
        "\n",
        "# 2. 분류 CNN 모델링\n",
        "class CNN(Model):\n",
        "    def __init__(self, nb_classes): #, in_shape=None):\n",
        "        super(CNN,self).__init__() # added 2021-10-01\n",
        "        self.nb_classes = nb_classes\n",
        "        #self.in_shape = in_shape\n",
        "        \n",
        "        self.conv2D_A = Conv2D(32, kernel_size=(3, 3), activation='relu')\n",
        "        self.conv2D_B = Conv2D(64, (3, 3), activation='relu')\n",
        "        self.maxPooling2D_A = MaxPooling2D(pool_size=(2, 2))\n",
        "        self.dropout_A = Dropout(0.25)\n",
        "        self.flatten = Flatten()\n",
        "        \n",
        "        self.dense_A = Dense(128, activation='relu')\n",
        "        self.dropout_B = Dropout(0.5)\n",
        "        self.dense_B = Dense(nb_classes, activation='softmax', name='preds')\n",
        "        \n",
        "    def call(self, x):\n",
        "        nb_classes = self.nb_classes\n",
        "        # in_shape = self.in_shape\n",
        "\n",
        "        #x = Input(in_shape)\n",
        "\n",
        "        h = self.conv2D_A(x)\n",
        "        h = self.conv2D_B(h)\n",
        "        h = self.maxPooling2D_A(h)\n",
        "        h = self.dropout_A(h)\n",
        "        h = self.flatten(h)\n",
        "\n",
        "        h = self.dense_A(h)\n",
        "        h = self.dropout_B(h)\n",
        "\n",
        "        y = self.dense_B(h)\n",
        "        \n",
        "        return y\n",
        "\n",
        "# 3. 분류 CNN을 위한 데이터 준비\n",
        "class DataSet:\n",
        "    def __init__(self, X, y, nb_classes, scaling=True, \n",
        "                 test_size=0.2, random_state=0):\n",
        "        \"\"\"\n",
        "        X is originally vector. Hence, it will be transformed\n",
        "        to 2D images with a channel (i.e, 3D).\n",
        "        \"\"\"\n",
        "        self.X = X\n",
        "        self.add_channels()\n",
        "\n",
        "        X = self.X\n",
        "        # the data, shuffled and split between train and test sets\n",
        "        X_train, X_test, y_train, y_test = model_selection.train_test_split(\n",
        "            X, y, test_size=0.2, random_state=random_state)\n",
        "\n",
        "        print(X_train.shape, y_train.shape)\n",
        "\n",
        "        X_train = X_train.astype('float32')\n",
        "        X_test = X_test.astype('float32')\n",
        "\n",
        "        if scaling:\n",
        "            # scaling to have (0, 1) for each feature (each pixel)\n",
        "            scaler = MinMaxScaler()\n",
        "            n = X_train.shape[0]\n",
        "            X_train = scaler.fit_transform(\n",
        "                X_train.reshape(n, -1)).reshape(X_train.shape)\n",
        "            n = X_test.shape[0]\n",
        "            X_test = scaler.transform(\n",
        "                X_test.reshape(n, -1)).reshape(X_test.shape)\n",
        "            self.scaler = scaler\n",
        "\n",
        "        print('X_train shape:', X_train.shape)\n",
        "        print(X_train.shape[0], 'train samples')\n",
        "        print(X_test.shape[0], 'test samples')\n",
        "\n",
        "        # convert class vectors to binary class matrices\n",
        "        Y_train = np_utils.to_categorical(y_train, nb_classes)\n",
        "        Y_test = np_utils.to_categorical(y_test, nb_classes)\n",
        "\n",
        "        self.X_train, self.X_test = X_train, X_test\n",
        "        self.Y_train, self.Y_test = Y_train, Y_test\n",
        "        self.y_train, self.y_test = y_train, y_test\n",
        "        # self.input_shape = input_shape\n",
        "\n",
        "    def add_channels(self):\n",
        "        X = self.X\n",
        "\n",
        "        if len(X.shape) == 3:\n",
        "            N, img_rows, img_cols = X.shape\n",
        "\n",
        "            if K.image_dim_ordering() == 'th':\n",
        "                X = X.reshape(X.shape[0], 1, img_rows, img_cols)\n",
        "                input_shape = (1, img_rows, img_cols)\n",
        "            else:\n",
        "                X = X.reshape(X.shape[0], img_rows, img_cols, 1)\n",
        "                input_shape = (img_rows, img_cols, 1)\n",
        "        else:\n",
        "            input_shape = X.shape[1:]  # channel is already included.\n",
        "\n",
        "        self.X = X\n",
        "        self.input_shape = input_shape    \n",
        "    \n",
        "# 4. 분류 CNN의 학습 및 성능 평가를 위한 머신 클래스\n",
        "class Machine():\n",
        "    def __init__(self, X, y, nb_classes=2, fig=True):\n",
        "        self.nb_classes = nb_classes\n",
        "        self.set_data(X, y)\n",
        "        self.set_model()\n",
        "        self.fig = fig\n",
        "\n",
        "    def set_data(self, X, y):\n",
        "        nb_classes = self.nb_classes\n",
        "        self.data = DataSet(X, y, nb_classes)\n",
        "        print('data.input_shape', self.data.input_shape)\n",
        "\n",
        "    def set_model(self):\n",
        "        nb_classes = self.nb_classes\n",
        "        data = self.data\n",
        "        self.model = CNN(nb_classes=nb_classes)\n",
        "        self.model.compile(loss='categorical_crossentropy',\n",
        "                      optimizer='adadelta', metrics=['accuracy'])        \n",
        "\n",
        "    def fit(self, epochs=10, batch_size=128, verbose=1):\n",
        "        data = self.data\n",
        "        model = self.model\n",
        "\n",
        "        history = model.fit(data.X_train, data.Y_train, \n",
        "                            batch_size=batch_size, epochs=epochs,\n",
        "                            verbose=verbose, \n",
        "                            validation_data=(data.X_test, data.Y_test))\n",
        "        return history\n",
        "\n",
        "    def run(self, epochs=100, batch_size=128, verbose=1):\n",
        "        data = self.data\n",
        "        model = self.model\n",
        "        fig = self.fig\n",
        "\n",
        "        history = self.fit(epochs=epochs,\n",
        "                           batch_size=batch_size, verbose=verbose)\n",
        "\n",
        "        score = model.evaluate(data.X_test, data.Y_test, verbose=0)\n",
        "\n",
        "        print('Confusion matrix')\n",
        "        Y_test_pred = model.predict(data.X_test, verbose=0)\n",
        "        y_test_pred = np.argmax(Y_test_pred, axis=1)\n",
        "        print(metrics.confusion_matrix(data.y_test, y_test_pred))\n",
        "\n",
        "        print('Test score:', score[0])\n",
        "        print('Test accuracy:', score[1])\n",
        "\n",
        "        # Save results\n",
        "        suffix = sfile.unique_filename('datatime')\n",
        "        foldname = 'output_' + suffix\n",
        "        os.makedirs(foldname)\n",
        "        skeras.save_history_history(\n",
        "            'history_history.npy', history.history, fold=foldname)\n",
        "        model.save_weights(os.path.join(foldname, 'dl_model.h5'))\n",
        "        print('Output results are saved in', foldname)\n",
        "\n",
        "        if fig:\n",
        "            plt.figure(figsize=(12, 4))\n",
        "            plt.subplot(1, 2, 1)\n",
        "            skeras.plot_acc(history)\n",
        "            plt.subplot(1, 2, 2)\n",
        "            skeras.plot_loss(history)\n",
        "            plt.show()\n",
        "\n",
        "        self.history = history\n",
        "\n",
        "        return foldname"
      ]
    },
    {
      "cell_type": "markdown",
      "metadata": {
        "id": "iNuf5xYAyTYK"
      },
      "source": [
        "### 4.3.6 분류 CNN의 학습 및 성능 평가 수행"
      ]
    },
    {
      "cell_type": "markdown",
      "metadata": {
        "id": "Kp-VYpJXyTYK"
      },
      "source": [
        "5. 분류 CNN을 위한 머쉰에 기반하여 컬러 이미지를 분류합니다."
      ]
    },
    {
      "cell_type": "code",
      "execution_count": 14,
      "metadata": {
        "id": "_3aXd3DvyTYK",
        "colab": {
          "base_uri": "https://localhost:8080/",
          "height": 701
        },
        "outputId": "f797f01a-bc93-4617-800a-fee4e3a03d33"
      },
      "outputs": [
        {
          "output_type": "stream",
          "name": "stdout",
          "text": [
            "(40000, 32, 32, 3) (40000, 1)\n",
            "X_train shape: (40000, 32, 32, 3)\n",
            "40000 train samples\n",
            "10000 test samples\n",
            "data.input_shape (32, 32, 3)\n",
            "Epoch 1/2\n",
            "313/313 [==============================] - 7s 21ms/step - loss: 2.2998 - accuracy: 0.1085 - val_loss: 2.2898 - val_accuracy: 0.1090\n",
            "Epoch 2/2\n",
            "313/313 [==============================] - 6s 20ms/step - loss: 2.2907 - accuracy: 0.1227 - val_loss: 2.2804 - val_accuracy: 0.1137\n",
            "Confusion matrix\n",
            "[[866   5   1   1   0   1   4   0 124   2]\n",
            " [830  12   3   3   0   3   0   1 130   4]\n",
            " [905   4   5  27   2   3   0   3  62   5]\n",
            " [886   3   9  23   0   7   4   1  90   7]\n",
            " [874   0   4  21   1   4   5   4  51   3]\n",
            " [883   3  12  21   1  10   6   2  70   8]\n",
            " [861   1   4  27   0   4   4   2  43   7]\n",
            " [883   4   5  16   1   5   1   1  77   6]\n",
            " [774   1   1   1   0   0   1   0 211   0]\n",
            " [811   7   2   1   0   0   2   0 213   4]]\n",
            "Test score: 2.280440330505371\n",
            "Test accuracy: 0.1137000024318695\n",
            "Output results are saved in output_b3c0bc18-567e-44bf-8157-d9506452df01\n"
          ]
        },
        {
          "output_type": "display_data",
          "data": {
            "text/plain": [
              "<Figure size 864x288 with 2 Axes>"
            ],
            "image/png": "[encoded data removed]"
          },
          "metadata": {
            "needs_background": "light"
          }
        }
      ],
      "source": [
        "# 5. 분류 CNN의 학습 및 성능 평가 수행\n",
        "from keras import datasets\n",
        "import keras\n",
        "assert keras.backend.image_data_format() == 'channels_last'\n",
        "\n",
        "# from keraspp import aicnn\n",
        "class MyMachine(Machine):\n",
        "    def __init__(self):\n",
        "        (X, y), (x_test, y_test) = datasets.cifar10.load_data()\n",
        "        super(MyMachine,self).__init__(X, y, nb_classes=10)\n",
        "\n",
        "def main():\n",
        "    m = MyMachine()\n",
        "    m.run(epochs=2)\n",
        "\n",
        "main()"
      ]
    },
    {
      "cell_type": "markdown",
      "metadata": {
        "id": "h_kVw1h5yTYK"
      },
      "source": [
        "---\n",
        "### 4.3.7 분류 CNN의 수행을 위한 전체 코드"
      ]
    },
    {
      "cell_type": "code",
      "execution_count": 16,
      "metadata": {
        "id": "yN4_Nf0eyTYK",
        "outputId": "11301183-fa58-4d25-cd4e-7918a2aaafad",
        "colab": {
          "base_uri": "https://localhost:8080/",
          "height": 701
        }
      },
      "outputs": [
        {
          "output_type": "stream",
          "name": "stdout",
          "text": [
            "(40000, 32, 32, 3) (40000, 1)\n",
            "X_train shape: (40000, 32, 32, 3)\n",
            "40000 train samples\n",
            "10000 test samples\n",
            "data.input_shape (32, 32, 3)\n",
            "Epoch 1/2\n",
            "313/313 [==============================] - 7s 21ms/step - loss: 2.3121 - accuracy: 0.1067 - val_loss: 2.2901 - val_accuracy: 0.1235\n",
            "Epoch 2/2\n",
            "313/313 [==============================] - 6s 20ms/step - loss: 2.2966 - accuracy: 0.1194 - val_loss: 2.2785 - val_accuracy: 0.1602\n",
            "Confusion matrix\n",
            "[[301   7   1  20   0  22  12   6 596  39]\n",
            " [275  33   9  62   2  73  39  11 415  67]\n",
            " [263  12  17  64  11  97  13  50 466  23]\n",
            " [280  28   9 137   9 110  16  75 336  30]\n",
            " [204   6   5 126  11 134  14  65 373  29]\n",
            " [288  13  10 106  11 143  12  76 325  32]\n",
            " [205  16   4 117  18 125  40  78 316  34]\n",
            " [278  13   7  88  15  85  10  63 374  66]\n",
            " [168   4   1  12   1  43   3  10 711  36]\n",
            " [219  29   8  27   5  21  17  27 541 146]]\n",
            "Test score: 2.278519630432129\n",
            "Test accuracy: 0.16019999980926514\n",
            "Output results are saved in output_91a2a8a2-c8a2-48c5-8843-9c3d385b0f3b\n"
          ]
        },
        {
          "output_type": "display_data",
          "data": {
            "text/plain": [
              "<Figure size 864x288 with 2 Axes>"
            ],
            "image/png": "[encoded data removed]"
          },
          "metadata": {
            "needs_background": "light"
          }
        }
      ],
      "source": [
        "# File - ex4_2_cnn_ficar10_cl-cpu.py\n",
        "\n",
        "# set to use CPU\n",
        "import os\n",
        "os.environ['CUDA_VISIBLE_DEVICES'] = '-1'\n",
        "\n",
        "# 5. 분류 CNN의 학습 및 성능 평가 수행\n",
        "#from keras import datasets\n",
        "from tensorflow.keras import datasets\n",
        "import keras\n",
        "assert keras.backend.image_data_format() == 'channels_last'\n",
        "from keraspp import aicnn\n",
        "\n",
        "# from keraspp import aicnn\n",
        "class MyMachine(aicnn.Machine):\n",
        "    def __init__(self):\n",
        "        (X, y), (x_test, y_test) = datasets.cifar10.load_data()\n",
        "        super(MyMachine,self).__init__(X, y, nb_classes=10)\n",
        "\n",
        "def main():\n",
        "    m = MyMachine()\n",
        "    m.run(epochs=2)\n",
        "\n",
        "main()"
      ]
    },
    {
      "cell_type": "code",
      "execution_count": null,
      "metadata": {
        "id": "Ai1nwxLQyTYL"
      },
      "outputs": [],
      "source": [
        ""
      ]
    }
  ],
  "metadata": {
    "kernelspec": {
      "display_name": "Python 3",
      "name": "python3"
    },
    "language_info": {
      "name": "python"
    },
    "toc": {
      "nav_menu": {},
      "number_sections": true,
      "sideBar": true,
      "skip_h1_title": true,
      "toc_cell": false,
      "toc_position": {},
      "toc_section_display": "block",
      "toc_window_display": false
    },
    "colab": {
      "name": "nb_ex4_2_cnn_cifar10_cl-colab.ipynb",
      "provenance": []
    },
    "accelerator": "GPU"
  },
  "nbformat": 4,
  "nbformat_minor": 0
}