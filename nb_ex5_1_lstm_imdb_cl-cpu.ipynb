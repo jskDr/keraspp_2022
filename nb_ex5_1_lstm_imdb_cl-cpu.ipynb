{
 "cells": [
  {
   "cell_type": "markdown",
   "metadata": {},
   "source": [
    "# 5장. 케라스2로 구현하는 RNN(순환신경망)\n",
    "## 5.2 문장을 판별하는 LSTM 구현 \n",
    "LSTM을 이용하여 문장의 의미를 이해하는 예제를 구현"
   ]
  },
  {
   "cell_type": "code",
   "execution_count": 2,
   "metadata": {},
   "outputs": [],
   "source": [
    "# set to use CPU\n",
    "import os\n",
    "os.environ['CUDA_VISIBLE_DEVICES'] = '-1'"
   ]
  },
  {
   "cell_type": "markdown",
   "metadata": {},
   "source": [
    "### 5.2.1 라이브러리 패키지 임포트\n",
    "1. LSTM을 이용한 판별망 구현에 필요한 라이브러리 임포트"
   ]
  },
  {
   "cell_type": "code",
   "execution_count": 3,
   "metadata": {},
   "outputs": [],
   "source": [
    "from __future__ import print_function"
   ]
  },
  {
   "cell_type": "code",
   "execution_count": 4,
   "metadata": {},
   "outputs": [],
   "source": [
    "from keras.preprocessing import sequence\n",
    "from keras.datasets import imdb\n",
    "from keras import layers, models"
   ]
  },
  {
   "cell_type": "markdown",
   "metadata": {},
   "source": [
    "### 5.2.2 데이터 준비     \n",
    "2. 데이터는 케라스가 제공하는 공개 데이터인 IMDB를 사용합니다"
   ]
  },
  {
   "cell_type": "code",
   "execution_count": 8,
   "metadata": {},
   "outputs": [],
   "source": [
    "class Data:\n",
    "    def __init__(self, max_features=20000, maxlen=80):\n",
    "        (self.x_train, self.y_train), (self.x_test, self.y_test) = \n",
    "            imdb.load_data(num_words=max_features)\n",
    "        self.x_train = sequence.pad_sequences(self.x_train, maxlen=maxlen)\n",
    "        self.x_test = sequence.pad_sequences(self.x_test, maxlen=maxlen)"
   ]
  },
  {
   "cell_type": "markdown",
   "metadata": {},
   "source": [
    "### 5.2.3 모델링 \n",
    "3. LSTM 모델링을 위한 클래스를 선언"
   ]
  },
  {
   "cell_type": "code",
   "execution_count": 15,
   "metadata": {},
   "outputs": [],
   "source": [
    "class RNN_LSTM(models.Model):\n",
    "    def __init__(self, max_features, maxlen):\n",
    "        x = layers.Input((maxlen,))\n",
    "        h = layers.Embedding(max_features, 128)(x)\n",
    "        h = layers.LSTM(128, dropout=0.2, recurrent_dropout=0.2)(h)\n",
    "        y = layers.Dense(1, activation='sigmoid')(h)\n",
    "        super().__init__(x, y)\n",
    "\n",
    "        # try using different optimizers and different optimizer configs\n",
    "        self.compile(loss='binary_crossentropy',\n",
    "                    optimizer='adam', metrics=['accuracy'])"
   ]
  },
  {
   "cell_type": "markdown",
   "metadata": {},
   "source": [
    "### 5.2.4 학습 및 성능 평가 \n",
    "4. 학습 및 성능 평가를 담당할 머신 클래스"
   ]
  },
  {
   "cell_type": "code",
   "execution_count": 16,
   "metadata": {},
   "outputs": [],
   "source": [
    "class Machine:\n",
    "    def __init__(self,\n",
    "                max_features=20000,\n",
    "                maxlen=80):\n",
    "        self.data = Data(max_features, maxlen)\n",
    "        self.model = RNN_LSTM(max_features, maxlen)\n",
    "\n",
    "    def run(self, epochs=3, batch_size=32):\n",
    "        data = self.data\n",
    "        model = self.model\n",
    "        print('Training stage')\n",
    "        print('==============')\n",
    "        model.fit(data.x_train, data.y_train,\n",
    "                 batch_size=batch_size,\n",
    "                 epochs=epochs,\n",
    "                 validation_data=(data.x_test, data.y_test))\n",
    "\n",
    "        score, acc = model.evaluate(data.x_test, data.y_test,\n",
    "                                   batch_size=batch_size)\n",
    "        print('Test performance: accuracy={0}, loss={1}'.format(acc, score))"
   ]
  },
  {
   "cell_type": "code",
   "execution_count": 17,
   "metadata": {},
   "outputs": [
    {
     "name": "stdout",
     "output_type": "stream",
     "text": [
      "Downloading data from https://storage.googleapis.com/tensorflow/tf-keras-datasets/imdb.npz\n",
      "17465344/17464789 [==============================] - 2s 0us/step\n"
     ]
    },
    {
     "name": "stderr",
     "output_type": "stream",
     "text": [
      "/home/sjkim/anaconda3/envs/keras-gpu/lib/python3.8/site-packages/tensorflow/python/keras/datasets/imdb.py:155: VisibleDeprecationWarning: Creating an ndarray from ragged nested sequences (which is a list-or-tuple of lists-or-tuples-or ndarrays with different lengths or shapes) is deprecated. If you meant to do this, you must specify 'dtype=object' when creating the ndarray\n",
      "  x_train, y_train = np.array(xs[:idx]), np.array(labels[:idx])\n",
      "/home/sjkim/anaconda3/envs/keras-gpu/lib/python3.8/site-packages/tensorflow/python/keras/datasets/imdb.py:156: VisibleDeprecationWarning: Creating an ndarray from ragged nested sequences (which is a list-or-tuple of lists-or-tuples-or ndarrays with different lengths or shapes) is deprecated. If you meant to do this, you must specify 'dtype=object' when creating the ndarray\n",
      "  x_test, y_test = np.array(xs[idx:]), np.array(labels[idx:])\n",
      "2021-10-21 07:44:14.925770: I tensorflow/stream_executor/platform/default/dso_loader.cc:44] Successfully opened dynamic library libcuda.so.1\n",
      "2021-10-21 07:44:15.238806: E tensorflow/stream_executor/cuda/cuda_driver.cc:313] failed call to cuInit: CUDA_ERROR_NO_DEVICE: no CUDA-capable device is detected\n",
      "2021-10-21 07:44:15.238925: I tensorflow/stream_executor/cuda/cuda_diagnostics.cc:156] kernel driver does not appear to be running on this host (SJKIM-Home): /proc/driver/nvidia/version does not exist\n",
      "2021-10-21 07:44:15.240623: I tensorflow/core/platform/cpu_feature_guard.cc:143] Your CPU supports instructions that this TensorFlow binary was not compiled to use: SSE4.1 SSE4.2 AVX AVX2 FMA\n",
      "2021-10-21 07:44:15.257532: I tensorflow/core/platform/profile_utils/cpu_utils.cc:102] CPU Frequency: 3599995000 Hz\n",
      "2021-10-21 07:44:15.258766: I tensorflow/compiler/xla/service/service.cc:168] XLA service 0x564f38551470 initialized for platform Host (this does not guarantee that XLA will be used). Devices:\n",
      "2021-10-21 07:44:15.258796: I tensorflow/compiler/xla/service/service.cc:176]   StreamExecutor device (0): Host, Default Version\n"
     ]
    },
    {
     "name": "stdout",
     "output_type": "stream",
     "text": [
      "Training stage\n",
      "==============\n",
      "Epoch 1/3\n",
      "782/782 [==============================] - 132s 169ms/step - loss: 0.4403 - accuracy: 0.7908 - val_loss: 0.4199 - val_accuracy: 0.8331\n",
      "Epoch 2/3\n",
      "782/782 [==============================] - 136s 174ms/step - loss: 0.2613 - accuracy: 0.8965 - val_loss: 0.3800 - val_accuracy: 0.8354\n",
      "Epoch 3/3\n",
      "782/782 [==============================] - 129s 165ms/step - loss: 0.1737 - accuracy: 0.9342 - val_loss: 0.4590 - val_accuracy: 0.8264\n",
      "782/782 [==============================] - 14s 18ms/step - loss: 0.4590 - accuracy: 0.8264\n",
      "Test performance: accuracy=0.8263599872589111, loss=0.45901864767074585\n"
     ]
    }
   ],
   "source": [
    "m = Machine()\n",
    "m.run()"
   ]
  },
  {
   "cell_type": "markdown",
   "metadata": {},
   "source": [
    "---\n",
    "### 전체 코드"
   ]
  },
  {
   "cell_type": "code",
   "execution_count": 19,
   "metadata": {},
   "outputs": [
    {
     "name": "stdout",
     "output_type": "stream",
     "text": [
      "Training stage\n",
      "==============\n",
      "Epoch 1/3\n",
      "782/782 [==============================] - 131s 167ms/step - loss: 0.4299 - accuracy: 0.7977 - val_loss: 0.3840 - val_accuracy: 0.8344\n",
      "Epoch 2/3\n",
      "782/782 [==============================] - 131s 168ms/step - loss: 0.2544 - accuracy: 0.8988 - val_loss: 0.3705 - val_accuracy: 0.8360\n",
      "Epoch 3/3\n",
      "782/782 [==============================] - 127s 163ms/step - loss: 0.1648 - accuracy: 0.9388 - val_loss: 0.4513 - val_accuracy: 0.8304\n",
      "782/782 [==============================] - 16s 21ms/step - loss: 0.4513 - accuracy: 0.8304\n",
      "Test performance: accuracy=0.8304399847984314, loss=0.45125243067741394\n"
     ]
    }
   ],
   "source": [
    "# ① 라이브러리 임포트\n",
    "from __future__ import print_function\n",
    "from keras.preprocessing import sequence\n",
    "from keras.datasets import imdb\n",
    "from keras import layers, models\n",
    "\n",
    "# ② 데이터 준비 \n",
    "class Data:\n",
    "    def __init__(self, max_features=20000, maxlen=80):\n",
    "        (self.x_train, self.y_train), (self.x_test, self.y_test) = imdb.load_data(num_words=max_features)\n",
    "        self.x_train = sequence.pad_sequences(self.x_train, maxlen=maxlen)\n",
    "        self.x_test = sequence.pad_sequences(self.x_test, maxlen=maxlen)\n",
    "\n",
    "# ③ 모델링\n",
    "class RNN_LSTM(models.Model):\n",
    "    def __init__(self, max_features, maxlen):\n",
    "        x = layers.Input((maxlen,))\n",
    "        h = layers.Embedding(max_features, 128)(x)\n",
    "        h = layers.LSTM(128, dropout=0.2, recurrent_dropout=0.2)(h)\n",
    "        y = layers.Dense(1, activation='sigmoid')(h)\n",
    "        super().__init__(x, y)\n",
    "\n",
    "        # try using different optimizers and different optimizer configs\n",
    "        self.compile(loss='binary_crossentropy',\n",
    "                    optimizer='adam', metrics=['accuracy'])\n",
    "\n",
    "# ④ 학습 및 성능 평가 \n",
    "class Machine:\n",
    "    def __init__(self,\n",
    "                max_features=20000,\n",
    "                maxlen=80):\n",
    "        self.data = Data(max_features, maxlen)\n",
    "        self.model = RNN_LSTM(max_features, maxlen)\n",
    "\n",
    "    def run(self, epochs=3, batch_size=32):\n",
    "        data = self.data\n",
    "        model = self.model\n",
    "        print('Training stage')\n",
    "        print('==============')\n",
    "        model.fit(data.x_train, data.y_train,\n",
    "                 batch_size=batch_size,\n",
    "                 epochs=epochs,\n",
    "                 validation_data=(data.x_test, data.y_test))\n",
    "\n",
    "        score, acc = model.evaluate(data.x_test, data.y_test,\n",
    "                                   batch_size=batch_size)\n",
    "        print('Test performance: accuracy={0}, loss={1}'.format(acc, score))\n",
    "\n",
    "def main():\n",
    "    m = Machine()\n",
    "    m.run()\n",
    "\n",
    "main()"
   ]
  }
 ],
 "metadata": {
  "kernelspec": {
   "display_name": "keras-gpu",
   "language": "python",
   "name": "keras-gpu"
  },
  "language_info": {
   "codemirror_mode": {
    "name": "ipython",
    "version": 3
   },
   "file_extension": ".py",
   "mimetype": "text/x-python",
   "name": "python",
   "nbconvert_exporter": "python",
   "pygments_lexer": "ipython3",
   "version": "3.8.5"
  },
  "toc": {
   "nav_menu": {},
   "number_sections": true,
   "sideBar": true,
   "skip_h1_title": true,
   "toc_cell": false,
   "toc_position": {},
   "toc_section_display": "block",
   "toc_window_display": false
  }
 },
 "nbformat": 4,
 "nbformat_minor": 4
}
