{
 "cells": [
  {
   "cell_type": "markdown",
   "id": "c4414fce-984f-47e6-ab00-641edd273244",
   "metadata": {},
   "source": [
    "## 11.3 양자인공지능 알고리즘 구현\n",
    "### 11.3.1 파라미터가 있는 양자컴퓨팅\n",
    "#### 측정이 없는 가변양자회로\n",
    "- 필요한 패키지를 불러옵니다"
   ]
  },
  {
   "cell_type": "code",
   "execution_count": 1,
   "id": "bf05343c-8ff9-4c0d-955c-b48ec75fbfa3",
   "metadata": {},
   "outputs": [],
   "source": [
    "import cirq\n",
    "import sympy\n",
    "import numpy as np\n",
    "from cirq.contrib.svg import SVGCircuit"
   ]
  },
  {
   "cell_type": "markdown",
   "id": "0312b371-e09f-4dd7-a015-5c41115da816",
   "metadata": {},
   "source": [
    "- 파라미터로 사용할 변수를 심볼릭 변수인 sympy로 정의"
   ]
  },
  {
   "cell_type": "code",
   "execution_count": 2,
   "id": "f77ec30e-3bcf-4344-b864-f1bdb59cb66d",
   "metadata": {},
   "outputs": [],
   "source": [
    "W = sympy.symbols('W')"
   ]
  },
  {
   "cell_type": "markdown",
   "id": "f2d1bb61-2b3f-4f7b-af0f-4f0c044a0a0b",
   "metadata": {},
   "source": [
    "- 만들게 될 양자회로"
   ]
  },
  {
   "cell_type": "code",
   "execution_count": 22,
   "id": "40f34443-011c-452c-80a4-a2e2be5ff75b",
   "metadata": {},
   "outputs": [
    {
     "data": {
      "image/svg+xml": "<svg xmlns=\"http://www.w3.org/2000/svg\" width=\"179.88777343750002\" height=\"50.0\"><line x1=\"35.2275390625\" x2=\"149.88777343750002\" y1=\"25.0\" y2=\"25.0\" stroke=\"#1967d2\" stroke-width=\"1\" /><rect x=\"10.0\" y=\"5.0\" width=\"50.455078125\" height=\"40\" stroke=\"black\" fill=\"white\" stroke-width=\"0\" /><text x=\"35.2275390625\" y=\"25.0\" dominant-baseline=\"middle\" text-anchor=\"middle\" font-size=\"14px\" font-family=\"Arial\">Qubit: </text><rect x=\"80.455078125\" y=\"5.0\" width=\"49.4326953125\" height=\"40\" stroke=\"black\" fill=\"white\" stroke-width=\"1\" /><text x=\"105.17142578125001\" y=\"25.0\" dominant-baseline=\"middle\" text-anchor=\"middle\" font-size=\"14px\" font-family=\"Arial\">Ry(W)</text></svg>",
      "text/plain": [
       "<cirq.contrib.svg.svg.SVGCircuit at 0x7f8643af85d0>"
      ]
     },
     "execution_count": 22,
     "metadata": {},
     "output_type": "execute_result"
    }
   ],
   "source": [
    "Qubit = cirq.NamedQubit(\"Qubit\")\n",
    "circuit = cirq.Circuit(\n",
    "    cirq.ry(W).on(Qubit)) #, cirq.measure(Qubit, key='m'))\n",
    "\n",
    "SVGCircuit(circuit)"
   ]
  },
  {
   "cell_type": "markdown",
   "id": "b877274d-56bd-4e2a-bdeb-0948bada4275",
   "metadata": {},
   "source": [
    "- 회로의 동작을 시뮬레이션하는 함수를 만듭니다"
   ]
  },
  {
   "cell_type": "code",
   "execution_count": 23,
   "id": "7ac27ccd-8705-4b44-9d03-a06a721b86bd",
   "metadata": {},
   "outputs": [],
   "source": [
    "def simulation(circuit, w=np.pi/2):\n",
    "    cirq_simulator = cirq.Simulator()\n",
    "    resolver = cirq.ParamResolver({W: w})\n",
    "    result = cirq_simulator.simulate(circuit, resolver)\n",
    "    return result"
   ]
  },
  {
   "cell_type": "markdown",
   "id": "4a103146-9104-4f82-9e76-fb6b9e3d78be",
   "metadata": {},
   "source": [
    "- 시뮬레이션과 그 결과"
   ]
  },
  {
   "cell_type": "code",
   "execution_count": 24,
   "id": "d8308799-9b01-4fd5-b892-5b6b950826ae",
   "metadata": {},
   "outputs": [
    {
     "name": "stdout",
     "output_type": "stream",
     "text": [
      "measurements: (no measurements)\n",
      "output vector: |0⟩\n",
      "measurements: (no measurements)\n",
      "output vector: 0.707|0⟩ + 0.707|1⟩\n",
      "measurements: (no measurements)\n",
      "output vector: |1⟩\n"
     ]
    }
   ],
   "source": [
    "print(simulation(circuit, 0))\n",
    "print(simulation(circuit, np.pi/2))\n",
    "print(simulation(circuit, np.pi))"
   ]
  },
  {
   "cell_type": "markdown",
   "id": "4423301f-99cc-4790-9dd6-fc6c6955bda9",
   "metadata": {},
   "source": [
    "#### 측정이 있는 가변양자회로"
   ]
  },
  {
   "cell_type": "code",
   "execution_count": 36,
   "id": "75e77abb-3409-4f18-a830-bd722076666c",
   "metadata": {},
   "outputs": [
    {
     "data": {
      "image/svg+xml": "<svg xmlns=\"http://www.w3.org/2000/svg\" width=\"251.6490625\" height=\"50.0\"><line x1=\"35.2275390625\" x2=\"221.6490625\" y1=\"25.0\" y2=\"25.0\" stroke=\"#1967d2\" stroke-width=\"1\" /><rect x=\"10.0\" y=\"5.0\" width=\"50.455078125\" height=\"40\" stroke=\"black\" fill=\"white\" stroke-width=\"0\" /><text x=\"35.2275390625\" y=\"25.0\" dominant-baseline=\"middle\" text-anchor=\"middle\" font-size=\"14px\" font-family=\"Arial\">Qubit: </text><rect x=\"80.455078125\" y=\"5.0\" width=\"49.4326953125\" height=\"40\" stroke=\"black\" fill=\"white\" stroke-width=\"1\" /><text x=\"105.17142578125001\" y=\"25.0\" dominant-baseline=\"middle\" text-anchor=\"middle\" font-size=\"14px\" font-family=\"Arial\">Ry(W)</text><rect x=\"149.88777343750002\" y=\"5.0\" width=\"51.7612890625\" height=\"40\" stroke=\"black\" fill=\"white\" stroke-width=\"1\" /><text x=\"175.76841796875001\" y=\"25.0\" dominant-baseline=\"middle\" text-anchor=\"middle\" font-size=\"14px\" font-family=\"Arial\">M('m')</text></svg>",
      "text/plain": [
       "<cirq.contrib.svg.svg.SVGCircuit at 0x7f5dbc1fac10>"
      ]
     },
     "execution_count": 36,
     "metadata": {},
     "output_type": "execute_result"
    }
   ],
   "source": [
    "circuit = cirq.Circuit(\n",
    "    cirq.ry(W).on(Qubit), cirq.measure(Qubit, key='m'))\n",
    "SVGCircuit(circuit)"
   ]
  },
  {
   "cell_type": "markdown",
   "id": "f92a921f-d68f-4c4b-8059-a3586d33f6d4",
   "metadata": {},
   "source": [
    "---\n",
    "#### 전체코드"
   ]
  },
  {
   "cell_type": "code",
   "execution_count": 35,
   "id": "0d79b48d-5bfd-4662-98d8-98d1278d538a",
   "metadata": {},
   "outputs": [
    {
     "name": "stdout",
     "output_type": "stream",
     "text": [
      "measurements: (no measurements)\n",
      "output vector: |0⟩\n",
      "measurements: (no measurements)\n",
      "output vector: 0.707|0⟩ + 0.707|1⟩\n",
      "measurements: (no measurements)\n",
      "output vector: |1⟩\n",
      "measurements: m=0\n",
      "output vector: |0⟩\n",
      "measurements: m=1\n",
      "output vector: |1⟩\n",
      "measurements: m=1\n",
      "output vector: |1⟩\n"
     ]
    }
   ],
   "source": [
    "import cirq\n",
    "import sympy\n",
    "import numpy as np\n",
    "from cirq.contrib.svg import SVGCircuit\n",
    "\n",
    "W = sympy.symbols('W')\n",
    "# 측정이 없는 가변양자회로\n",
    "Qubit = cirq.NamedQubit(\"Qubit\")\n",
    "circuit = cirq.Circuit(\n",
    "    cirq.ry(W).on(Qubit))\n",
    "\n",
    "def simulation(circuit, w=np.pi/2):\n",
    "    cirq_simulator = cirq.Simulator()\n",
    "    resolver = cirq.ParamResolver({W: w})\n",
    "    result = cirq_simulator.simulate(circuit, resolver)\n",
    "    return result\n",
    "# 측정이 없는 가변양자회로\n",
    "print(simulation(circuit, 0))\n",
    "print(simulation(circuit, np.pi/2))\n",
    "print(simulation(circuit, np.pi))\n",
    "\n",
    "# \n",
    "Qubit = cirq.NamedQubit(\"Qubit\")\n",
    "circuit = cirq.Circuit(\n",
    "    cirq.ry(W).on(Qubit), cirq.measure(Qubit, key='m'))\n",
    "\n",
    "def simulation(circuit, w=np.pi/2):\n",
    "    cirq_simulator = cirq.Simulator()\n",
    "    resolver = cirq.ParamResolver({W: w})\n",
    "    result = cirq_simulator.simulate(circuit, resolver)\n",
    "    return result\n",
    "\n",
    "print(simulation(circuit, 0))\n",
    "print(simulation(circuit, np.pi/2))\n",
    "print(simulation(circuit, np.pi))"
   ]
  }
 ],
 "metadata": {
  "kernelspec": {
   "display_name": "tfq",
   "language": "python",
   "name": "tfq"
  },
  "language_info": {
   "codemirror_mode": {
    "name": "ipython",
    "version": 3
   },
   "file_extension": ".py",
   "mimetype": "text/x-python",
   "name": "python",
   "nbconvert_exporter": "python",
   "pygments_lexer": "ipython3",
   "version": "3.7.11"
  }
 },
 "nbformat": 4,
 "nbformat_minor": 5
}
