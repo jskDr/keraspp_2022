{
 "cells": [
  {
   "cell_type": "markdown",
   "metadata": {},
   "source": [
    "## 9.4 학습 가능 신규 계층 만들기\n",
    "어렵지 않으면서도 효과적인 기능을 구현하는 학습 가능한 신규 계층을 만드는 방법을 다룹니다. "
   ]
  },
  {
   "cell_type": "code",
   "execution_count": 8,
   "metadata": {},
   "outputs": [
    {
     "data": {
      "text/plain": [
       "'2.4.3'"
      ]
     },
     "execution_count": 8,
     "metadata": {},
     "output_type": "execute_result"
    }
   ],
   "source": [
    "# set to use CPU\n",
    "import keras\n",
    "keras.__version__"
   ]
  },
  {
   "cell_type": "markdown",
   "metadata": {},
   "source": [
    "### 9.4.1 관련 패키지 임포트"
   ]
  },
  {
   "cell_type": "code",
   "execution_count": 11,
   "metadata": {},
   "outputs": [],
   "source": [
    "import keras\n",
    "from keras import backend as K\n",
    "from keras.engine.topology import Layer\n",
    "import numpy as np\n",
    "\n",
    "from keras import initializers \n",
    "igu = initializers.get('glorot_uniform')\n",
    "iz = initializers.get('zeros')"
   ]
  },
  {
   "cell_type": "markdown",
   "metadata": {},
   "source": [
    "### 9.4.2 새로운 계층의 클래스 만들기"
   ]
  },
  {
   "cell_type": "code",
   "execution_count": 13,
   "metadata": {},
   "outputs": [],
   "source": [
    "class SFC(Layer):\n",
    "    def __init__(self, No, **kwargs):\n",
    "        self.No = No\n",
    "        super().__init__(**kwargs)\n",
    "\n",
    "    def build(self, inshape):\n",
    "        self.w = self.add_weight(\"w\", (inshape[1], self.No),\n",
    "                                 initializer=igu)\n",
    "        self.b = self.add_weight(\"b\", (self.No,),\n",
    "                                 initializer=iz)        \n",
    "        super().build(inshape)  \n",
    "\n",
    "    def call(self, x):\n",
    "        return K.dot(x, self.w) + self.b\n",
    "\n",
    "    def compute_output_shape(self, inshape):\n",
    "        return (inshape[0], self.No)"
   ]
  },
  {
   "cell_type": "markdown",
   "metadata": {},
   "source": [
    "### 9.4.3 사용 데이터 준비하기"
   ]
  },
  {
   "cell_type": "code",
   "execution_count": 15,
   "metadata": {},
   "outputs": [],
   "source": [
    "x = np.array([0, 1, 2, 3, 4]) \n",
    "y = x * 2 + 1"
   ]
  },
  {
   "cell_type": "markdown",
   "metadata": {},
   "source": [
    "### 9.4.4 신규 계층이 포함된 모델링 만들기"
   ]
  },
  {
   "cell_type": "code",
   "execution_count": 18,
   "metadata": {},
   "outputs": [],
   "source": [
    "model = keras.models.Sequential()\n",
    "model.add(SFC(1, input_shape=(1,)))\n",
    "model.compile('SGD', 'mse')"
   ]
  },
  {
   "cell_type": "markdown",
   "metadata": {},
   "source": [
    "### 9.4.5 모델의 학습과 성능 평가"
   ]
  },
  {
   "cell_type": "code",
   "execution_count": 20,
   "metadata": {},
   "outputs": [
    {
     "name": "stdout",
     "output_type": "stream",
     "text": [
      "Targets: [5 7 9]\n",
      "Predictions: [4.9995375 6.9992023 8.998867 ]\n",
      "Errors: [0.00046253 0.00079775 0.00113297]\n"
     ]
    }
   ],
   "source": [
    "model.fit(x[:2], y[:2], epochs=1000, verbose=0)\n",
    "print('Targets:',y[2:])\n",
    "print('Predictions:', model.predict(x[2:]).flatten())\n",
    "print('Errors:', y[2:] - model.predict(x[2:]).flatten())"
   ]
  },
  {
   "cell_type": "markdown",
   "metadata": {},
   "source": [
    "---\n",
    "### 9.2.7 전체 코드"
   ]
  },
  {
   "cell_type": "code",
   "execution_count": 21,
   "metadata": {},
   "outputs": [
    {
     "name": "stdout",
     "output_type": "stream",
     "text": [
      "Targets: [5 7 9]\n",
      "Predictions: [4.9328327 6.8842306 8.835628 ]\n",
      "Errors: [0.06716728 0.11576939 0.16437244]\n"
     ]
    }
   ],
   "source": [
    "# set to use CPU\n",
    "import os\n",
    "os.environ['CUDA_VISIBLE_DEVICES'] = '-1'\n",
    "\n",
    "# 9.4.1 관련 패키지 임포트\n",
    "import keras\n",
    "from keras import backend as K\n",
    "from keras.engine.topology import Layer\n",
    "import numpy as np\n",
    "\n",
    "from keras import initializers \n",
    "igu = initializers.get('glorot_uniform')\n",
    "iz = initializers.get('zeros')\n",
    "\n",
    "# 9.4.2 새로운 계층의 클래스 만들기\n",
    "class SFC(Layer):\n",
    "    # FC: Simplified fully connected layer\n",
    "    def __init__(self, No, **kwargs):\n",
    "        self.No = No\n",
    "        super().__init__(**kwargs)\n",
    "\n",
    "    def build(self, inshape):\n",
    "        self.w = self.add_weight(\"w\", (inshape[1], self.No),\n",
    "                                 initializer=igu)\n",
    "        self.b = self.add_weight(\"b\", (self.No,),\n",
    "                                 initializer=iz)        \n",
    "        super().build(inshape)  \n",
    "\n",
    "    def call(self, x):\n",
    "        return K.dot(x, self.w) + self.b\n",
    "\n",
    "    def compute_output_shape(self, inshape):\n",
    "        return (inshape[0], self.No)\n",
    "\n",
    "# 9.4.3 사용 데이터 준비하기\n",
    "x = np.array([0, 1, 2, 3, 4]) \n",
    "y = x * 2 + 1\n",
    "\n",
    "# 9.4.4 신규 계층이 포함된 모델링 만들기\n",
    "model = keras.models.Sequential()\n",
    "model.add(SFC(1, input_shape=(1,)))\n",
    "model.compile('SGD', 'mse')\n",
    "\n",
    "# 9.4.5 모델의 학습과 성능 평가\n",
    "model.fit(x[:2], y[:2], epochs=1000, verbose=0)\n",
    "print('Targets:',y[2:])\n",
    "print('Predictions:', model.predict(x[2:]).flatten())\n",
    "print('Errors:', y[2:] - model.predict(x[2:]).flatten())"
   ]
  },
  {
   "cell_type": "code",
   "execution_count": null,
   "metadata": {},
   "outputs": [],
   "source": []
  }
 ],
 "metadata": {
  "kernelspec": {
   "display_name": "keras-gpu",
   "language": "python",
   "name": "keras-gpu"
  },
  "language_info": {
   "codemirror_mode": {
    "name": "ipython",
    "version": 3
   },
   "file_extension": ".py",
   "mimetype": "text/x-python",
   "name": "python",
   "nbconvert_exporter": "python",
   "pygments_lexer": "ipython3",
   "version": "3.8.5"
  },
  "toc": {
   "nav_menu": {},
   "number_sections": true,
   "sideBar": true,
   "skip_h1_title": true,
   "toc_cell": false,
   "toc_position": {},
   "toc_section_display": "block",
   "toc_window_display": false
  }
 },
 "nbformat": 4,
 "nbformat_minor": 4
}
