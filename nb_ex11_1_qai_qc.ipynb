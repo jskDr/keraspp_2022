{
 "cells": [
  {
   "cell_type": "markdown",
   "id": "3988f224-29c3-4f6c-b29f-68a988d00138",
   "metadata": {},
   "source": [
    "# 11장. 케라스로 구현하는 QAI(양자인공지능)\n",
    "## 11.2 양자컴퓨팅 알고리즘 구현"
   ]
  },
  {
   "cell_type": "markdown",
   "id": "c9d1b855-70b0-401b-90e4-77e65b51e4b3",
   "metadata": {},
   "source": [
    "- Cirq 라이브러리를 파이썬 환경으로 불러오기"
   ]
  },
  {
   "cell_type": "code",
   "execution_count": 8,
   "id": "cefc7bc0-73b1-41ae-838c-683cb9795235",
   "metadata": {},
   "outputs": [],
   "source": [
    "import cirq"
   ]
  },
  {
   "cell_type": "markdown",
   "id": "b7edc049-502c-4dee-bcc5-26172ca35a24",
   "metadata": {},
   "source": [
    "### 11.2.1 기본 양자 회로 만들기 "
   ]
  },
  {
   "cell_type": "code",
   "execution_count": 9,
   "id": "3211105e-c2de-4d66-8b6a-70fea02ae5ba",
   "metadata": {},
   "outputs": [
    {
     "name": "stdout",
     "output_type": "stream",
     "text": [
      "My Qubit: ───M───\n",
      "{'My Qubit': array([[0],\n",
      "       [0],\n",
      "       [0]], dtype=int8)}\n"
     ]
    }
   ],
   "source": [
    "# 양자비트와 양자회로 만들기\n",
    "q = cirq.NamedQubit('My Qubit')\n",
    "circuit = cirq.Circuit(cirq.measure(q))\n",
    "print(circuit)\n",
    "\n",
    "# 만들어진 양자회로를 시뮬레이션을 통해 어떤 결과가 만들어지는지 확인\n",
    "simulator = cirq.Simulator()\n",
    "m_outputs = simulator.run(circuit, repetitions=3)\n",
    "print(m_outputs.measurements)"
   ]
  },
  {
   "cell_type": "markdown",
   "id": "84035426-fe2f-48b5-9a05-ae582a4a02c2",
   "metadata": {},
   "source": [
    "### 11.2.2 입력을 반전시키는 양자 회로"
   ]
  },
  {
   "cell_type": "code",
   "execution_count": 10,
   "id": "222dc000-0c1d-458d-a8b1-8c4bb1daf6cf",
   "metadata": {},
   "outputs": [
    {
     "name": "stdout",
     "output_type": "stream",
     "text": [
      "My Qubit: ───X───M───\n",
      "[1 1 1 1 1 1 1 1 1 1]\n"
     ]
    }
   ],
   "source": [
    "q = cirq.NamedQubit('My Qubit')\n",
    "circuit = cirq.Circuit(cirq.X(q), cirq.measure(q))\n",
    "print(circuit)\n",
    "\n",
    "simulator = cirq.Simulator()\n",
    "m_outputs = simulator.run(circuit, repetitions=10)\n",
    "print(m_outputs.measurements['My Qubit'][:,0])"
   ]
  },
  {
   "cell_type": "markdown",
   "id": "4d868087-1032-42e3-a2e0-11abf3949d1a",
   "metadata": {},
   "source": [
    "### 11.2.3 두 상태를 중첩하는 양자회로"
   ]
  },
  {
   "cell_type": "code",
   "execution_count": 11,
   "id": "14851101-2f74-49e0-9e43-753405afb3bc",
   "metadata": {},
   "outputs": [
    {
     "name": "stdout",
     "output_type": "stream",
     "text": [
      "My Qubit: ───H───M───\n",
      "Results= [0 1 1 0 1 0 1 1 1 1]  Average= 0.7\n",
      "Average for 100 measurements= 0.507\n"
     ]
    }
   ],
   "source": [
    "import numpy as np\n",
    "\n",
    "q = cirq.NamedQubit('My Qubit')\n",
    "circuit = cirq.Circuit(cirq.H(q), cirq.measure(q))\n",
    "print(circuit)\n",
    "\n",
    "simulator = cirq.Simulator()\n",
    "m_outputs = simulator.run(circuit, repetitions=10)\n",
    "results = m_outputs.measurements['My Qubit'][:,0]\n",
    "print('Results=',results,' Average=',np.mean(results))\n",
    "\n",
    "# 충분히 반복하게되면 평균이 0.5에 더 가까워지는지 확인하기 위해 1000번 측정\n",
    "m_outputs = simulator.run(circuit, repetitions=1000)\n",
    "results = m_outputs.measurements['My Qubit'][:,0]\n",
    "print('Average for 100 measurements=',np.mean(results))"
   ]
  },
  {
   "cell_type": "markdown",
   "id": "fc754a5a-28d8-4799-873b-89b9319ddca0",
   "metadata": {},
   "source": [
    "### 11.2.4 두 개 양자비트를 위한 계산 예: CNOT 연산"
   ]
  },
  {
   "cell_type": "markdown",
   "id": "1fb626ae-954b-4367-acb1-8121048e4360",
   "metadata": {},
   "source": [
    "- 두 양자비트의 초기 상태가 |00>인 경우"
   ]
  },
  {
   "cell_type": "code",
   "execution_count": 12,
   "id": "6098ec2f-d0a6-4d98-9355-fbccf3b8c374",
   "metadata": {},
   "outputs": [
    {
     "name": "stdout",
     "output_type": "stream",
     "text": [
      "(0, 0) (1, 0)\n",
      "(0, 0): ───@───\n",
      "           │\n",
      "(1, 0): ───X───\n",
      "(0, 0): ───@───M───\n",
      "           │\n",
      "(1, 0): ───X───M───\n",
      "(0, 0)=0000000000\n",
      "(1, 0)=0000000000\n"
     ]
    }
   ],
   "source": [
    "q = [cirq.GridQubit(i, 0) for i in range(2)]\n",
    "print(q[0], q[1])\n",
    "\n",
    "circuit = cirq.Circuit()\n",
    "circuit.append(cirq.CNOT(q[0], q[1]))\n",
    "print(circuit)\n",
    "circuit.append([cirq.measure(q[0]),cirq.measure(q[1])])\n",
    "print(circuit)\n",
    "\n",
    "simulator = cirq.Simulator()\n",
    "m_outputs = simulator.run(circuit, repetitions=10)\n",
    "print(m_outputs)"
   ]
  },
  {
   "cell_type": "markdown",
   "id": "54e5159e-5d59-4fca-8906-31b11b83237a",
   "metadata": {},
   "source": [
    "- 두 양자비트의 초기 상태가 |10>인 경우"
   ]
  },
  {
   "cell_type": "code",
   "execution_count": 6,
   "id": "af8f1f78-8a75-4d5a-b20c-accde7583ce3",
   "metadata": {},
   "outputs": [
    {
     "name": "stdout",
     "output_type": "stream",
     "text": [
      "(0, 0): ───X───@───M───\n",
      "               │\n",
      "(1, 0): ───────X───M───\n",
      "(0, 0)=1111111111\n",
      "(1, 0)=1111111111\n"
     ]
    }
   ],
   "source": [
    "circuit = cirq.Circuit(cirq.X(q[0]))\n",
    "circuit.append(cirq.CNOT(q[0], q[1]))\n",
    "circuit.append([cirq.measure(q[0]),cirq.measure(q[1])])\n",
    "print(circuit)\n",
    "\n",
    "simulator = cirq.Simulator()\n",
    "m_outputs = simulator.run(circuit, repetitions=10)\n",
    "print(m_outputs)"
   ]
  },
  {
   "cell_type": "markdown",
   "id": "e42d9728-7358-4cbd-a123-cbe5a8e94b48",
   "metadata": {},
   "source": [
    "### 11.2.5 벨 상태 만들기"
   ]
  },
  {
   "cell_type": "code",
   "execution_count": 13,
   "id": "ccd019f0-e6cd-42d3-8bac-d4b1b218647e",
   "metadata": {},
   "outputs": [
    {
     "name": "stdout",
     "output_type": "stream",
     "text": [
      "(0, 0): ───H───\n",
      "(0, 0): ───H───@───\n",
      "               │\n",
      "(1, 0): ───────X───\n",
      "(0, 0): ───H───@───M───\n",
      "               │\n",
      "(1, 0): ───────X───M───\n",
      "(0, 0)=0111101100\n",
      "(1, 0)=0111101100\n"
     ]
    }
   ],
   "source": [
    "q = [cirq.GridQubit(i, 0) for i in range(2)]\n",
    "circuit = cirq.Circuit()\n",
    "circuit.append(cirq.H(q[0]))\n",
    "print(circuit)\n",
    "circuit.append(cirq.CNOT(q[0], q[1]))\n",
    "print(circuit)\n",
    "circuit.append([cirq.measure(q[0]),cirq.measure(q[1])])\n",
    "print(circuit)\n",
    "\n",
    "simulator = cirq.Simulator()\n",
    "m_outputs = simulator.run(circuit, repetitions=10)\n",
    "print(m_outputs)"
   ]
  },
  {
   "cell_type": "code",
   "execution_count": 1,
   "id": "b52f0fc2-cf2c-4d9b-b78b-c7ea22b261e5",
   "metadata": {},
   "outputs": [],
   "source": [
    "# 전체 파일"
   ]
  },
  {
   "cell_type": "code",
   "execution_count": 2,
   "id": "a2630a4b",
   "metadata": {},
   "outputs": [
    {
     "ename": "ModuleNotFoundError",
     "evalue": "No module named 'cirq'",
     "output_type": "error",
     "traceback": [
      "\u001b[0;31m---------------------------------------------------------------------------\u001b[0m",
      "\u001b[0;31mModuleNotFoundError\u001b[0m                       Traceback (most recent call last)",
      "\u001b[1;32m/Users/sungjinkim/Documents/github_link/keraspp_2022/nb_ex11_1_qai_qc.ipynb Cell 18'\u001b[0m in \u001b[0;36m<cell line: 1>\u001b[0;34m()\u001b[0m\n\u001b[0;32m----> <a href='vscode-notebook-cell:/Users/sungjinkim/Documents/github_link/keraspp_2022/nb_ex11_1_qai_qc.ipynb#ch0000017?line=0'>1</a>\u001b[0m \u001b[39mimport\u001b[39;00m \u001b[39mcirq\u001b[39;00m\n",
      "\u001b[0;31mModuleNotFoundError\u001b[0m: No module named 'cirq'"
     ]
    }
   ],
   "source": [
    "import cirq\n",
    "\n",
    "# 1) 양자비트와 양자회로 만들기\n",
    "q = cirq.NamedQubit('My Qubit')\n",
    "circuit = cirq.Circuit(cirq.measure(q))\n",
    "print(circuit)\n",
    "\n",
    "# 만들어진 양자회로를 시뮬레이션을 통해 어떤 결과가 만들어지는지 확인\n",
    "simulator = cirq.Simulator()\n",
    "m_outputs = simulator.run(circuit, repetitions=3)\n",
    "print(m_outputs.measurements)\n",
    "\n",
    "\n",
    "# 2) 입력을 반전시키는 양자 회로\n",
    "q = cirq.NamedQubit('My Qubit')\n",
    "circuit = cirq.Circuit(cirq.X(q), cirq.measure(q))\n",
    "print(circuit)\n",
    "\n",
    "simulator = cirq.Simulator()\n",
    "m_outputs = simulator.run(circuit, repetitions=10)\n",
    "print(m_outputs.measurements['My Qubit'][:,0])\n",
    "\n",
    "\n",
    "# 3) 두 상태를 중첩하는 양자회로\n",
    "import numpy as np\n",
    "\n",
    "q = cirq.NamedQubit('My Qubit')\n",
    "circuit = cirq.Circuit(cirq.H(q), cirq.measure(q))\n",
    "print(circuit)\n",
    "\n",
    "simulator = cirq.Simulator()\n",
    "m_outputs = simulator.run(circuit, repetitions=10)\n",
    "results = m_outputs.measurements['My Qubit'][:,0]\n",
    "print('Results=',results,' Average=',np.mean(results))\n",
    "\n",
    "# 충분히 반복하게되면 평균이 0.5에 더 가까워지는지 확인하기 위해 1000번 측정\n",
    "m_outputs = simulator.run(circuit, repetitions=1000)\n",
    "results = m_outputs.measurements['My Qubit'][:,0]\n",
    "print('Average for 100 measurements=',np.mean(results))\n",
    "\n",
    "\n",
    "# 4) 두 개 양자비트를 위한 계산 예: CNOT 연산\n",
    "# 두 양자비트의 초기 상태가 |00>인 경우\n",
    "q = [cirq.GridQubit(i, 0) for i in range(2)]\n",
    "print(q[0], q[1])\n",
    "\n",
    "circuit = cirq.Circuit()\n",
    "circuit.append(cirq.CNOT(q[0], q[1]))\n",
    "print(circuit)\n",
    "circuit.append([cirq.measure(q[0]),cirq.measure(q[1])])\n",
    "print(circuit)\n",
    "\n",
    "simulator = cirq.Simulator()\n",
    "m_outputs = simulator.run(circuit, repetitions=10)\n",
    "print(m_outputs)\n",
    "\n",
    "# 두 양자비트의 초기 상태가 |10>인 경우\n",
    "circuit = cirq.Circuit(cirq.X(q[0]))\n",
    "circuit.append(cirq.CNOT(q[0], q[1]))\n",
    "circuit.append([cirq.measure(q[0]),cirq.measure(q[1])])\n",
    "print(circuit)\n",
    "\n",
    "simulator = cirq.Simulator()\n",
    "m_outputs = simulator.run(circuit, repetitions=10)\n",
    "print(m_outputs)\n",
    "\n",
    "\n",
    "# 5) 벨 상태 만들기\n",
    "q = [cirq.GridQubit(i, 0) for i in range(2)]\n",
    "circuit = cirq.Circuit()\n",
    "circuit.append(cirq.H(q[0]))\n",
    "print(circuit)\n",
    "circuit.append(cirq.CNOT(q[0], q[1]))\n",
    "print(circuit)\n",
    "circuit.append([cirq.measure(q[0]),cirq.measure(q[1])])\n",
    "print(circuit)\n",
    "\n",
    "simulator = cirq.Simulator()\n",
    "m_outputs = simulator.run(circuit, repetitions=10)\n",
    "print(m_outputs)"
   ]
  },
  {
   "cell_type": "code",
   "execution_count": null,
   "id": "8c69d24c",
   "metadata": {},
   "outputs": [],
   "source": []
  }
 ],
 "metadata": {
  "kernelspec": {
   "display_name": "Python 3 (ipykernel)",
   "language": "python",
   "name": "python3"
  },
  "language_info": {
   "codemirror_mode": {
    "name": "ipython",
    "version": 3
   },
   "file_extension": ".py",
   "mimetype": "text/x-python",
   "name": "python",
   "nbconvert_exporter": "python",
   "pygments_lexer": "ipython3",
   "version": "3.8.9"
  }
 },
 "nbformat": 4,
 "nbformat_minor": 5
}
