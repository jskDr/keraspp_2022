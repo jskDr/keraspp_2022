{
 "cells": [
  {
   "cell_type": "markdown",
   "metadata": {},
   "source": [
    "## 9장. 케라스2 응용\n",
    "실제 문제에 인공지능을 활용할 때 생기는 문제들을 효율적으로 처리하는 케라스의 응용 기능을 알아봅시다.\n",
    "\n",
    "### 9.3 간단한 신규 계층 만들기\n",
    "신규 계층을 만드는 Lambda 명령을 다룹니다."
   ]
  },
  {
   "cell_type": "code",
   "execution_count": 1,
   "metadata": {},
   "outputs": [
    {
     "data": {
      "text/plain": [
       "'2.4.3'"
      ]
     },
     "execution_count": 1,
     "metadata": {},
     "output_type": "execute_result"
    }
   ],
   "source": [
    "import keras\n",
    "keras.__version__"
   ]
  },
  {
   "cell_type": "markdown",
   "metadata": {},
   "source": [
    "### 9.3.1 Lambda 계층"
   ]
  },
  {
   "cell_type": "code",
   "execution_count": 2,
   "metadata": {},
   "outputs": [],
   "source": [
    "from keras.layers import Lambda, Input, Concatenate\n",
    "from keras.models import Model\n",
    "import numpy as np"
   ]
  },
  {
   "cell_type": "markdown",
   "metadata": {},
   "source": [
    "### 9.3.2 파이썬 lambda 기능 이용"
   ]
  },
  {
   "cell_type": "code",
   "execution_count": 3,
   "metadata": {},
   "outputs": [
    {
     "name": "stdout",
     "output_type": "stream",
     "text": [
      "[[ 4.  9.]\n",
      " [16. 25.]]\n"
     ]
    },
    {
     "name": "stderr",
     "output_type": "stream",
     "text": [
      "2021-11-06 11:13:05.385239: I tensorflow/stream_executor/platform/default/dso_loader.cc:44] Successfully opened dynamic library libcuda.so.1\n",
      "2021-11-06 11:13:05.411017: E tensorflow/stream_executor/cuda/cuda_driver.cc:313] failed call to cuInit: CUDA_ERROR_NO_DEVICE: no CUDA-capable device is detected\n",
      "2021-11-06 11:13:05.411092: I tensorflow/stream_executor/cuda/cuda_diagnostics.cc:156] kernel driver does not appear to be running on this host (SJKIM-Home): /proc/driver/nvidia/version does not exist\n",
      "2021-11-06 11:13:05.411960: I tensorflow/core/platform/cpu_feature_guard.cc:143] Your CPU supports instructions that this TensorFlow binary was not compiled to use: SSE4.1 SSE4.2 AVX AVX2 FMA\n",
      "2021-11-06 11:13:05.419776: I tensorflow/core/platform/profile_utils/cpu_utils.cc:102] CPU Frequency: 3599995000 Hz\n",
      "2021-11-06 11:13:05.421183: I tensorflow/compiler/xla/service/service.cc:168] XLA service 0x558497bbcd20 initialized for platform Host (this does not guarantee that XLA will be used). Devices:\n",
      "2021-11-06 11:13:05.421219: I tensorflow/compiler/xla/service/service.cc:176]   StreamExecutor device (0): Host, Default Version\n"
     ]
    }
   ],
   "source": [
    "def Lambda_with_lambda():\n",
    "    x = Input((2,))\n",
    "    y = Lambda(lambda x: x**2+2*x+1)(x)\n",
    "    m = Model(x, y)\n",
    "\n",
    "    yp = m.predict_on_batch(np.array([[1,2],[3,4]]))\n",
    "    print(yp)\n",
    "    \n",
    "Lambda_with_lambda()"
   ]
  },
  {
   "cell_type": "markdown",
   "metadata": {},
   "source": [
    "### 9.3.3 Lambda 계층 전용 함수 이용"
   ]
  },
  {
   "cell_type": "code",
   "execution_count": 4,
   "metadata": {},
   "outputs": [
    {
     "name": "stdout",
     "output_type": "stream",
     "text": [
      "[[ 4.  9.]\n",
      " [16. 25.]]\n"
     ]
    }
   ],
   "source": [
    "def Lambda_function():\n",
    "    def kproc(x):\n",
    "        return x ** 2 + 2 * x + 1\n",
    "\n",
    "    def kshape(input_shape):\n",
    "        return input_shape\n",
    "\n",
    "    x = Input((2,))\n",
    "    y = Lambda(kproc, kshape)(x)\n",
    "    m = Model(x, y)\n",
    "\n",
    "    yp = m.predict_on_batch(np.array([[1,2],[3,4]]))\n",
    "    print(yp)\n",
    "    \n",
    "Lambda_function()"
   ]
  },
  {
   "cell_type": "markdown",
   "metadata": {},
   "source": [
    "### 9.3.4  백엔드 함수 이용"
   ]
  },
  {
   "cell_type": "code",
   "execution_count": 5,
   "metadata": {},
   "outputs": [
    {
     "name": "stdout",
     "output_type": "stream",
     "text": [
      "[[1. 2. 3. 1. 0. 1. 1. 0. 1.]\n",
      " [3. 4. 8. 2. 1. 3. 4. 1. 9.]]\n"
     ]
    }
   ],
   "source": [
    "from keras import backend as K\n",
    "def Backend_for_Lambda():\n",
    "    def kproc_concat(x):    \n",
    "        m = K.mean(x, axis=1, keepdims=True)\n",
    "        d1 = K.abs(x - m)\n",
    "        d2 = K.square(x - m)\n",
    "        return K.concatenate([x, d1, d2], axis=1)\n",
    "\n",
    "    def kshape_concat(input_shape):\n",
    "        output_shape = list(input_shape)\n",
    "        output_shape[1] *= 3\n",
    "        return tuple(output_shape)\n",
    "\n",
    "    x = Input((3,))\n",
    "    y = Lambda(kproc_concat, kshape_concat)(x)\n",
    "    m = Model(x, y)\n",
    "\n",
    "    yp = m.predict_on_batch(np.array([[1, 2, 3], [3, 4, 8]]))\n",
    "    print(yp)\n",
    "    \n",
    "Backend_for_Lambda()"
   ]
  },
  {
   "cell_type": "markdown",
   "metadata": {},
   "source": [
    "### 9.3.5 엔진 전용 함수 이용"
   ]
  },
  {
   "cell_type": "code",
   "execution_count": 6,
   "metadata": {},
   "outputs": [
    {
     "name": "stdout",
     "output_type": "stream",
     "text": [
      "[[1. 2. 3. 1. 0. 1. 1. 0. 1.]\n",
      " [3. 4. 8. 2. 1. 3. 4. 1. 9.]]\n"
     ]
    }
   ],
   "source": [
    "import tensorflow as tf\n",
    "def TF_for_Lamda():\n",
    "    def kproc_concat(x):    \n",
    "        m = tf.reduce_mean(x, axis=1, keepdims=True)\n",
    "        d1 = tf.abs(x - m)\n",
    "        d2 = tf.square(x - m)\n",
    "        return tf.concat([x, d1, d2], axis=1)\n",
    "\n",
    "    def kshape_concat(input_shape):\n",
    "        output_shape = list(input_shape)\n",
    "        output_shape[1] *= 3\n",
    "        return tuple(output_shape)\n",
    "\n",
    "    x = Input((3,))\n",
    "    y = Lambda(kproc_concat, kshape_concat)(x)\n",
    "    m = Model(x, y)\n",
    "\n",
    "    yp = m.predict_on_batch(np.array([[1, 2, 3], [3, 4, 8]]))\n",
    "    print(yp)\n",
    "    \n",
    "TF_for_Lamda()"
   ]
  },
  {
   "cell_type": "markdown",
   "metadata": {},
   "source": [
    "### 9.3.6 케라스2의 확장 기능 이용"
   ]
  },
  {
   "cell_type": "code",
   "execution_count": 7,
   "metadata": {},
   "outputs": [
    {
     "name": "stdout",
     "output_type": "stream",
     "text": [
      "[[ 4.  9.]\n",
      " [16. 25.]]\n"
     ]
    }
   ],
   "source": [
    "def No_Lambda_with_keras2():\n",
    "    x = Input((2,))\n",
    "    y = x**2+2*x+1\n",
    "    m = Model(x, y)\n",
    "\n",
    "    yp = m.predict_on_batch(np.array([[1,2],[3,4]]))\n",
    "    print(yp)\n",
    "    \n",
    "No_Lambda_with_keras2()"
   ]
  },
  {
   "cell_type": "markdown",
   "metadata": {},
   "source": [
    "---\n",
    "### 9.2.7 전체 코드"
   ]
  },
  {
   "cell_type": "code",
   "execution_count": 8,
   "metadata": {},
   "outputs": [
    {
     "name": "stdout",
     "output_type": "stream",
     "text": [
      "Lambda with lambda\n",
      "[[ 4.  9.]\n",
      " [16. 25.]]\n",
      "Lambda function\n",
      "[[ 4.  9.]\n",
      " [16. 25.]]\n",
      "Backend for Lambda\n",
      "[[1. 2. 3. 1. 0. 1. 1. 0. 1.]\n",
      " [3. 4. 8. 2. 1. 3. 4. 1. 9.]]\n",
      "TF for Lambda\n",
      "[[1. 2. 3. 1. 0. 1. 1. 0. 1.]\n",
      " [3. 4. 8. 2. 1. 3. 4. 1. 9.]]\n",
      "Define-by-run approach in Keras2\n",
      "[[ 4.  9.]\n",
      " [16. 25.]]\n"
     ]
    }
   ],
   "source": [
    "# 9.3.1 Lambda 계층이란?\n",
    "from keras.layers import Lambda, Input\n",
    "from keras.models import Model\n",
    "\n",
    "# 9.3.2 파이썬 lambda 기능 이용\n",
    "def Lambda_with_lambda():\n",
    "    x = Input((2,))\n",
    "    y = Lambda(lambda x: x**2+2*x+1)(x)\n",
    "    m = Model(x, y)\n",
    "\n",
    "    yp = m.predict_on_batch(np.array([[1,2],[3,4]]))\n",
    "    print(yp)\n",
    "\n",
    "# 9.3.3 Lambda 계층 전용 함수 이용\n",
    "def Lambda_function():\n",
    "    def kproc(x):\n",
    "        return x ** 2 + 2 * x + 1\n",
    "\n",
    "    def kshape(input_shape):\n",
    "        return input_shape\n",
    "\n",
    "    x = Input((2,))\n",
    "    y = Lambda(kproc, kshape)(x)\n",
    "    m = Model(x, y)\n",
    "\n",
    "    yp = m.predict_on_batch(np.array([[1,2],[3,4]]))\n",
    "    print(yp)\n",
    "    \n",
    "# 9.3.4  백엔드 함수 이용\n",
    "from keras import backend as K\n",
    "def Backend_for_Lambda():\n",
    "    def kproc_concat(x):    \n",
    "        m = K.mean(x, axis=1, keepdims=True)\n",
    "        d1 = K.abs(x - m)\n",
    "        d2 = K.square(x - m)\n",
    "        return K.concatenate([x, d1, d2], axis=1)\n",
    "\n",
    "    def kshape_concat(input_shape):\n",
    "        output_shape = list(input_shape)\n",
    "        output_shape[1] *= 3\n",
    "        return tuple(output_shape)\n",
    "\n",
    "    x = Input((3,))\n",
    "    y = Lambda(kproc_concat, kshape_concat)(x)\n",
    "    m = Model(x, y)\n",
    "\n",
    "    yp = m.predict_on_batch(np.array([[1, 2, 3], [3, 4, 8]]))\n",
    "    print(yp)\n",
    "    \n",
    "# 9.3.5 엔진 전용 함수 이용    \n",
    "import tensorflow as tf\n",
    "def TF_for_Lamda():\n",
    "    def kproc_concat(x):    \n",
    "        m = tf.reduce_mean(x, axis=1, keepdims=True)\n",
    "        d1 = tf.abs(x - m)\n",
    "        d2 = tf.square(x - m)\n",
    "        return tf.concat([x, d1, d2], axis=1)\n",
    "\n",
    "    def kshape_concat(input_shape):\n",
    "        output_shape = list(input_shape)\n",
    "        output_shape[1] *= 3\n",
    "        return tuple(output_shape)\n",
    "\n",
    "    x = Input((3,))\n",
    "    y = Lambda(kproc_concat, kshape_concat)(x)\n",
    "    m = Model(x, y)\n",
    "\n",
    "    yp = m.predict_on_batch(np.array([[1, 2, 3], [3, 4, 8]]))\n",
    "    print(yp)\n",
    "    \n",
    "# 9.3.6 케라스2의 확장 기능 이용 \n",
    "def No_Lambda_with_keras2():\n",
    "    x = Input((2,))\n",
    "    y = x**2+2*x+1\n",
    "    m = Model(x, y)\n",
    "\n",
    "    yp = m.predict_on_batch(np.array([[1,2],[3,4]]))\n",
    "    print(yp)\n",
    "    \n",
    "    \n",
    "def main():\n",
    "    print('Lambda with lambda')\n",
    "    Lambda_with_lambda()\n",
    "\n",
    "    print('Lambda function')\n",
    "    Lambda_function()\n",
    "\n",
    "    print('Backend for Lambda')\n",
    "    Backend_for_Lambda()\n",
    "\n",
    "    print('TF for Lambda')\n",
    "    TF_for_Lamda()\n",
    "\n",
    "    print('Define-by-run approach in Keras2')\n",
    "    No_Lambda_with_keras2()\n",
    "\n",
    "    \n",
    "main()"
   ]
  },
  {
   "cell_type": "code",
   "execution_count": null,
   "metadata": {},
   "outputs": [],
   "source": []
  }
 ],
 "metadata": {
  "kernelspec": {
   "display_name": "keras-gpu",
   "language": "python",
   "name": "keras-gpu"
  },
  "language_info": {
   "codemirror_mode": {
    "name": "ipython",
    "version": 3
   },
   "file_extension": ".py",
   "mimetype": "text/x-python",
   "name": "python",
   "nbconvert_exporter": "python",
   "pygments_lexer": "ipython3",
   "version": "3.8.5"
  },
  "toc": {
   "nav_menu": {},
   "number_sections": true,
   "sideBar": true,
   "skip_h1_title": true,
   "toc_cell": false,
   "toc_position": {},
   "toc_section_display": "block",
   "toc_window_display": false
  }
 },
 "nbformat": 4,
 "nbformat_minor": 4
}
