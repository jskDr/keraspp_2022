{
 "cells": [
  {
   "cell_type": "markdown",
   "metadata": {},
   "source": [
    "## 4.2 필기체를 분류하는 CNN 구현 \n",
    "2장, 3장에서 다룬 필기체 데이터를 CNN으로 분류합니다.\n",
    "\n",
    "### 4.2.1 분류 CNN 모델링 \n",
    "1. 합성곱 계층들과 완전 연결 계층들이 결합하여 구성된 분류 CNN을 모델링하는 방법을 알아보겠습니다."
   ]
  },
  {
   "cell_type": "markdown",
   "metadata": {},
   "source": [
    "- 모델링에 필요한 케라스 패키지들을 불러오는 것이 우선입니다."
   ]
  },
  {
   "cell_type": "code",
   "execution_count": 1,
   "metadata": {},
   "outputs": [],
   "source": [
    "import keras\n",
    "from keras import models, layers\n",
    "from keras import backend"
   ]
  },
  {
   "cell_type": "markdown",
   "metadata": {},
   "source": [
    "- CNN 객체를 models.Sequential로 상속하여 연쇄 방식으로 모델을 구현합니다."
   ]
  },
  {
   "cell_type": "code",
   "execution_count": 2,
   "metadata": {},
   "outputs": [],
   "source": [
    "class CNN(models.Sequential):\n",
    "    def __init__(self, input_shape, num_classes):\n",
    "        super().__init__()\n",
    "\n",
    "        self.add(layers.Conv2D(32, kernel_size=(3, 3),\n",
    "                 activation='relu',\n",
    "                 input_shape=input_shape))\n",
    "        self.add(layers.Conv2D(64, (3, 3), activation='relu'))\n",
    "        self.add(layers.MaxPooling2D(pool_size=(2, 2)))\n",
    "        self.add(layers.Dropout(0.25))\n",
    "        self.add(layers.Flatten())\n",
    "        self.add(layers.Dense(128, activation='relu'))\n",
    "        self.add(layers.Dropout(0.5))\n",
    "        self.add(layers.Dense(num_classes, activation='softmax'))\n",
    "\n",
    "        self.compile(loss=keras.losses.categorical_crossentropy,\n",
    "                      optimizer='rmsprop',\n",
    "                      metrics=['accuracy'])"
   ]
  },
  {
   "cell_type": "markdown",
   "metadata": {},
   "source": [
    "### 4.2.3 분류 CNN을 위한 데이터 준비  \n",
    "2. 분류 CNN에 사용할 데이터인 앞선 장들에 나왔던 MNIST이고 이에 대한 CNN을 위한 사전처리를 진행합니다. "
   ]
  },
  {
   "cell_type": "code",
   "execution_count": 3,
   "metadata": {},
   "outputs": [],
   "source": [
    "from keras import datasets \n",
    "\n",
    "class DATA():\n",
    "    def __init__(self):\n",
    "        num_classes = 10\n",
    "\n",
    "        (x_train, y_train), (x_test, y_test) = datasets.mnist.load_data()\n",
    "        img_rows, img_cols = x_train.shape[1:]\n",
    "\n",
    "        if backend.image_data_format() == 'channels_first':\n",
    "            x_train = x_train.reshape(x_train.shape[0], 1, img_rows, img_cols)\n",
    "            x_test = x_test.reshape(x_test.shape[0], 1, img_rows, img_cols)\n",
    "            input_shape = (1, img_rows, img_cols)\n",
    "        else:\n",
    "            x_train = x_train.reshape(x_train.shape[0], img_rows, img_cols, 1)\n",
    "            x_test = x_test.reshape(x_test.shape[0], img_rows, img_cols, 1)\n",
    "            input_shape = (img_rows, img_cols, 1)\n",
    "\n",
    "        x_train = x_train.astype('float32')\n",
    "        x_test = x_test.astype('float32')\n",
    "        x_train /= 255\n",
    "        x_test /= 255\n",
    "\n",
    "        y_train = keras.utils.to_categorical(y_train, num_classes)\n",
    "        y_test = keras.utils.to_categorical(y_test, num_classes)\n",
    "        \n",
    "        self.input_shape = input_shape\n",
    "        self.num_classes = num_classes\n",
    "        self.x_train, self.y_train = x_train, y_train\n",
    "        self.x_test, self.y_test = x_test, y_test  "
   ]
  },
  {
   "cell_type": "markdown",
   "metadata": {},
   "source": [
    "### 4.2.3 학습 효과 분석\n",
    "3. 학습 효과를 분석하기 위해 그래프를 그리는 기능을 임포트합니다. "
   ]
  },
  {
   "cell_type": "code",
   "execution_count": 5,
   "metadata": {},
   "outputs": [],
   "source": [
    "from keraspp.skeras import plot_loss, plot_acc\n",
    "import matplotlib.pyplot as plt"
   ]
  },
  {
   "cell_type": "markdown",
   "metadata": {},
   "source": [
    "### 4.2.4 분류 CNN 학습 및 성능 평가\n",
    "4. 데이터와 모델이 준비되었으니 이제 이들을 이용해 학습과 성능 평가를 진행할 차례입니다. "
   ]
  },
  {
   "cell_type": "code",
   "execution_count": 6,
   "metadata": {},
   "outputs": [
    {
     "name": "stderr",
     "output_type": "stream",
     "text": [
      "2021-09-26 21:02:50.957829: I tensorflow/core/platform/cpu_feature_guard.cc:142] This TensorFlow binary is optimized with oneAPI Deep Neural Network Library (oneDNN) to use the following CPU instructions in performance-critical operations:  SSE4.1 SSE4.2 AVX AVX2 FMA\n",
      "To enable them in other operations, rebuild TensorFlow with the appropriate compiler flags.\n",
      "2021-09-26 21:02:51.054449: I tensorflow/compiler/mlir/mlir_graph_optimization_pass.cc:116] None of the MLIR optimization passes are enabled (registered 2)\n"
     ]
    },
    {
     "name": "stdout",
     "output_type": "stream",
     "text": [
      "Epoch 1/10\n",
      "375/375 [==============================] - 42s 111ms/step - loss: 0.4699 - accuracy: 0.8511 - val_loss: 0.0615 - val_accuracy: 0.9817\n",
      "Epoch 2/10\n",
      "375/375 [==============================] - 43s 116ms/step - loss: 0.0956 - accuracy: 0.9712 - val_loss: 0.0571 - val_accuracy: 0.9836\n",
      "Epoch 3/10\n",
      "375/375 [==============================] - 43s 115ms/step - loss: 0.0681 - accuracy: 0.9792 - val_loss: 0.0431 - val_accuracy: 0.9872\n",
      "Epoch 4/10\n",
      "375/375 [==============================] - 43s 116ms/step - loss: 0.0533 - accuracy: 0.9840 - val_loss: 0.0410 - val_accuracy: 0.9886\n",
      "Epoch 5/10\n",
      "375/375 [==============================] - 44s 116ms/step - loss: 0.0455 - accuracy: 0.9856 - val_loss: 0.0387 - val_accuracy: 0.9895\n",
      "Epoch 6/10\n",
      "375/375 [==============================] - 44s 117ms/step - loss: 0.0453 - accuracy: 0.9869 - val_loss: 0.0399 - val_accuracy: 0.9895\n",
      "Epoch 7/10\n",
      "375/375 [==============================] - 44s 117ms/step - loss: 0.0415 - accuracy: 0.9875 - val_loss: 0.0388 - val_accuracy: 0.9894\n",
      "Epoch 8/10\n",
      "375/375 [==============================] - 42s 113ms/step - loss: 0.0391 - accuracy: 0.9884 - val_loss: 0.0383 - val_accuracy: 0.9897\n",
      "Epoch 9/10\n",
      "375/375 [==============================] - 43s 113ms/step - loss: 0.0417 - accuracy: 0.9881 - val_loss: 0.0506 - val_accuracy: 0.9887\n",
      "Epoch 10/10\n",
      "375/375 [==============================] - 43s 114ms/step - loss: 0.0399 - accuracy: 0.9883 - val_loss: 0.0433 - val_accuracy: 0.9887\n",
      "313/313 [==============================] - 2s 7ms/step - loss: 0.0353 - accuracy: 0.9898\n",
      "\n",
      "Test loss: 0.03530378267168999\n",
      "Test accuracy: 0.989799976348877\n"
     ]
    },
    {
     "data": {
      "image/png": "[encoded data removed]",
      "text/plain": [
       "<Figure size 432x288 with 1 Axes>"
      ]
     },
     "metadata": {
      "needs_background": "light"
     },
     "output_type": "display_data"
    },
    {
     "data": {
      "image/png": "[encoded data removed]",
      "text/plain": [
       "<Figure size 432x288 with 1 Axes>"
      ]
     },
     "metadata": {
      "needs_background": "light"
     },
     "output_type": "display_data"
    }
   ],
   "source": [
    "batch_size = 128\n",
    "epochs = 10\n",
    "\n",
    "data = DATA()\n",
    "model = CNN(data.input_shape, data.num_classes)\n",
    "\n",
    "history = model.fit(data.x_train, data.y_train,\n",
    "          batch_size=batch_size,\n",
    "          epochs=epochs,\n",
    "          validation_split=0.2)\n",
    "\n",
    "score = model.evaluate(data.x_test, data.y_test)\n",
    "print()\n",
    "print('Test loss:', score[0])\n",
    "print('Test accuracy:', score[1])\n",
    "\n",
    "plot_loss(history)\n",
    "plt.show()\n",
    "plot_acc(history)\n",
    "plt.show()"
   ]
  },
  {
   "cell_type": "markdown",
   "metadata": {},
   "source": [
    "---\n",
    "### 4.2.4 전체 코드"
   ]
  },
  {
   "cell_type": "code",
   "execution_count": null,
   "metadata": {},
   "outputs": [],
   "source": [
    "# File: ex4_1_cnn_mnist_cl.py\n",
    "\n",
    "# 1. 분류 CNN 모델링\n",
    "import keras\n",
    "from keras import models, layers\n",
    "from keras import backend\n",
    "\n",
    "class CNN(models.Sequential):\n",
    "    def __init__(self, input_shape, num_classes):\n",
    "        super().__init__()\n",
    "\n",
    "        self.add(layers.Conv2D(32, kernel_size=(3, 3),\n",
    "                 activation='relu',\n",
    "                 input_shape=input_shape))\n",
    "        self.add(layers.Conv2D(64, (3, 3), activation='relu'))\n",
    "        self.add(layers.MaxPooling2D(pool_size=(2, 2)))\n",
    "        self.add(layers.Dropout(0.25))\n",
    "        self.add(layers.Flatten())\n",
    "        self.add(layers.Dense(128, activation='relu'))\n",
    "        self.add(layers.Dropout(0.5))\n",
    "        self.add(layers.Dense(num_classes, activation='softmax'))\n",
    "\n",
    "        self.compile(loss=keras.losses.categorical_crossentropy,\n",
    "                      optimizer='rmsprop',\n",
    "                      metrics=['accuracy'])\n",
    "\n",
    "# 2. 분류 CNN을 위한 데이터 준비  \n",
    "from keras import datasets \n",
    "\n",
    "class DATA():\n",
    "    def __init__(self):\n",
    "        num_classes = 10\n",
    "\n",
    "        (x_train, y_train), (x_test, y_test) = datasets.mnist.load_data()\n",
    "        img_rows, img_cols = x_train.shape[1:]\n",
    "\n",
    "        if backend.image_data_format() == 'channels_first':\n",
    "            x_train = x_train.reshape(x_train.shape[0], 1, img_rows, img_cols)\n",
    "            x_test = x_test.reshape(x_test.shape[0], 1, img_rows, img_cols)\n",
    "            input_shape = (1, img_rows, img_cols)\n",
    "        else:\n",
    "            x_train = x_train.reshape(x_train.shape[0], img_rows, img_cols, 1)\n",
    "            x_test = x_test.reshape(x_test.shape[0], img_rows, img_cols, 1)\n",
    "            input_shape = (img_rows, img_cols, 1)\n",
    "\n",
    "        x_train = x_train.astype('float32')\n",
    "        x_test = x_test.astype('float32')\n",
    "        x_train /= 255\n",
    "        x_test /= 255\n",
    "\n",
    "        y_train = keras.utils.to_categorical(y_train, num_classes)\n",
    "        y_test = keras.utils.to_categorical(y_test, num_classes)\n",
    "        \n",
    "        self.input_shape = input_shape\n",
    "        self.num_classes = num_classes\n",
    "        self.x_train, self.y_train = x_train, y_train\n",
    "        self.x_test, self.y_test = x_test, y_test        \n",
    "        \n",
    "# 3. 학습 효과 분석\n",
    "from keraspp.skeras import plot_loss, plot_acc\n",
    "import matplotlib.pyplot as plt\n",
    "\n",
    "# 4. 분류 CNN 학습 및 테스트\n",
    "def main():\n",
    "    batch_size = 128\n",
    "    epochs = 10\n",
    "\n",
    "    data = DATA()\n",
    "    model = CNN(data.input_shape, data.num_classes)\n",
    "\n",
    "    history = model.fit(data.x_train, data.y_train,\n",
    "              batch_size=batch_size,\n",
    "              epochs=epochs,\n",
    "              validation_split=0.2)\n",
    "\n",
    "    score = model.evaluate(data.x_test, data.y_test)\n",
    "    print()\n",
    "    print('Test loss:', score[0])\n",
    "    print('Test accuracy:', score[1])\n",
    "\n",
    "    plot_loss(history)\n",
    "    plt.show()\n",
    "    plot_acc(history)\n",
    "    plt.show()\n",
    "\n",
    "main()"
   ]
  }
 ],
 "metadata": {
  "kernelspec": {
   "display_name": "keras2",
   "language": "python",
   "name": "keras2"
  },
  "language_info": {
   "codemirror_mode": {
    "name": "ipython",
    "version": 3
   },
   "file_extension": ".py",
   "mimetype": "text/x-python",
   "name": "python",
   "nbconvert_exporter": "python",
   "pygments_lexer": "ipython3",
   "version": "3.9.7"
  },
  "toc": {
   "nav_menu": {},
   "number_sections": true,
   "sideBar": true,
   "skip_h1_title": true,
   "toc_cell": false,
   "toc_position": {},
   "toc_section_display": "block",
   "toc_window_display": false
  }
 },
 "nbformat": 4,
 "nbformat_minor": 4
}
